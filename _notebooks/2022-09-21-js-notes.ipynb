{
 "cells": [
  {
   "cell_type": "markdown",
   "metadata": {},
   "source": [
    "# Javascript Notes\n",
    "\n",
    "* image: images/javascript.jpg"
   ]
  },
  {
   "cell_type": "markdown",
   "metadata": {},
   "source": [
    "### Javascript Data Types\n",
    "\n",
    "Here is a function that will print out the data type of an input."
   ]
  },
  {
   "cell_type": "code",
   "execution_count": 12,
   "metadata": {},
   "outputs": [
    {
     "name": "stdout",
     "output_type": "stream",
     "text": [
      "Hello: string\n",
      "3: number\n",
      "true: boolean\n",
      "null: object\n",
      "undefined: undefined\n"
     ]
    }
   ],
   "source": [
    "function dataType(data) {\n",
    "    console.log(data + \": \" + typeof data)\n",
    "}\n",
    "\n",
    "dataType(\"Hello\");\n",
    "dataType(3);\n",
    "dataType(true);\n",
    "dataType(null);\n",
    "dataType();\n"
   ]
  },
  {
   "cell_type": "code",
   "execution_count": 13,
   "metadata": {},
   "outputs": [],
   "source": [
    "function pcPart(name, brand, year) {\n",
    "    this.name = name;\n",
    "    this.brand = brand;\n",
    "    this.year = year;\n",
    "    this.role = \"\";\n",
    "}\n",
    "\n",
    "pcPart.prototype.setRole = function(role) {\n",
    "    this.role = role;\n",
    "}\n",
    "\n",
    "for (var row in pcPart) {\n",
    "    setRole(\"GPU\");\n",
    "}"
   ]
  },
  {
   "cell_type": "code",
   "execution_count": 14,
   "metadata": {},
   "outputs": [],
   "source": [
    "var parts = [\n",
    "    new pcPart(\"RTX 2060\", \"Nvidia\", 2019),\n",
    "    new pcPart(\"RTX 2070\", \"Nvidia\", 2018),\n",
    "    new pcPart(\"RTX 2080 Ti\", \"Nvidia\", 2018),\n",
    "    new pcPart(\"Radeon RX 5300\", \"AMD\", 2020),\n",
    "    new pcPart(\"Radeon RX 6800\", \"AMD\", 2020),\n",
    "];\n",
    "\n",
    "function partList(CPU, GPU) {\n",
    "\n",
    "    for (var row in pcPart) {\n",
    "        setRole(\"GPU\");\n",
    "    }\n",
    "\n",
    "    this.partList = partList;\n",
    "    this.partList.forEach(partList => { partList.setRole(\"GPU\"); this.partList.push(GPU); });\n",
    "\n",
    "    this.json = [];\n",
    "    this.partList.forEach(pcPart => this.json.push(pcPart.toJSON()));\n",
    "}"
   ]
  },
  {
   "cell_type": "code",
   "execution_count": 18,
   "metadata": {},
   "outputs": [
    {
     "ename": "TypeError",
     "evalue": "partList.prototype._toHtml is not a function",
     "output_type": "error",
     "traceback": [
      "evalmachine.<anonymous>:35",
      "$$.html(partList.prototype._toHtml());",
      "                           ^",
      "",
      "TypeError: partList.prototype._toHtml is not a function",
      "    at evalmachine.<anonymous>:35:28",
      "    at Script.runInThisContext (vm.js:96:20)",
      "    at Object.runInThisContext (vm.js:303:38)",
      "    at run ([eval]:1020:15)",
      "    at onRunRequest ([eval]:864:18)",
      "    at onMessage ([eval]:828:13)",
      "    at process.emit (events.js:182:13)",
      "    at emit (internal/child_process.js:812:12)",
      "    at process._tickCallback (internal/process/next_tick.js:63:19)"
     ]
    }
   ],
   "source": [
    "partList.prototype._toHTML = function() {\n",
    "    \n",
    "    let style = (\n",
    "        \"display: inline-block;\" +\n",
    "        \"border: 2px solid white;\" +\n",
    "        \"background-color: gray;\"\n",
    "    );\n",
    "\n",
    "    let body = \"\";\n",
    "    \n",
    "    body += \"<tr>\";\n",
    "    body += \"<th>\" +  \"Name\" + \"</th>\";\n",
    "    body += \"<th>\" +  \"Brand\" + \"</th>\";\n",
    "    body += \"<th>\" +  \"Year\" + \"</th>\";\n",
    "    body += \"</tr>\";\n",
    "\n",
    "    for (var row in GPUlist) {\n",
    "\n",
    "        body += \"<tr>\";\n",
    "        body += \"<td>\" + GPUlist[row].name + \"</td>\";\n",
    "        body += \"<td>\" + GPUlist[row].brand + \"</td>\";\n",
    "        body += \"<td>\" + GPUlist[row].year + \"</td>\";\n",
    "        body += \"</tr>\";\n",
    "    }\n",
    "\n",
    "    return (\n",
    "        \"<div style = '\" + style +\"'>\" +\n",
    "            \"<table>\" +\n",
    "                body +\n",
    "            \"</table>\" +\n",
    "        \"</div>\"\n",
    "    );\n",
    "};\n",
    "\n",
    "$$.html(partList.prototype._toHtml());"
   ]
  }
 ],
 "metadata": {
  "kernelspec": {
   "display_name": "JavaScript (Node.js)",
   "language": "javascript",
   "name": "javascript"
  },
  "language_info": {
   "file_extension": ".js",
   "mimetype": "application/javascript",
   "name": "javascript",
   "version": "10.13.0"
  },
  "orig_nbformat": 4,
  "vscode": {
   "interpreter": {
    "hash": "aee8b7b246df8f9039afb4144a1f6fd8d2ca17a180786b69acc140d282b71a49"
   }
  }
 },
 "nbformat": 4,
 "nbformat_minor": 2
}
