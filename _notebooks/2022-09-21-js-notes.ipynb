{
 "cells": [
  {
   "cell_type": "markdown",
   "metadata": {},
   "source": [
    "# Javascript Notes\n",
    "\n",
    "* image: images/javascript.jpg"
   ]
  },
  {
   "cell_type": "markdown",
   "metadata": {},
   "source": [
    "### Javascript Data Types\n",
    "\n",
    "Here is a function that will print out the data type of an input."
   ]
  },
  {
   "cell_type": "code",
   "execution_count": 39,
   "metadata": {},
   "outputs": [
    {
     "name": "stdout",
     "output_type": "stream",
     "text": [
      "Hello: string\n",
      "3: number\n",
      "true: boolean\n",
      "null: object\n",
      "undefined: undefined\n"
     ]
    }
   ],
   "source": [
    "function dataType(data) {\n",
    "    console.log(data + \": \" + typeof data)\n",
    "}\n",
    "\n",
    "dataType(\"Hello\");\n",
    "dataType(3);\n",
    "dataType(true);\n",
    "dataType(null);\n",
    "dataType();\n"
   ]
  },
  {
   "cell_type": "code",
   "execution_count": 40,
   "metadata": {},
   "outputs": [
    {
     "name": "stdout",
     "output_type": "stream",
     "text": [
      "[object Object]: object\n",
      "{\"name\":\"John Mortenson\",\"ghID\":\"jm1021\",\"classOf\":1977,\"role\":\"\"}: string\n",
      "[object Object]: object\n",
      "{\"name\":\"John Mortenson\",\"ghID\":\"jm1021\",\"classOf\":1977,\"role\":\"Teacher\"}: string\n"
     ]
    }
   ],
   "source": [
    "// define a function to hold data for a Person\n",
    "function Person(name, ghID, classOf) {\n",
    "    this.name = name;\n",
    "    this.ghID = ghID;\n",
    "    this.classOf = classOf;\n",
    "    this.role = \"\";\n",
    "}\n",
    "\n",
    "// define a setter for role in Person data\n",
    "Person.prototype.setRole = function(role) {\n",
    "    this.role = role;\n",
    "}\n",
    "\n",
    "// define a JSON conversion \"method\" associated with Person\n",
    "Person.prototype.toJSON = function() {\n",
    "    const obj = {name: this.name, ghID: this.ghID, classOf: this.classOf, role: this.role};\n",
    "    const json = JSON.stringify(obj);  // json/string is useful when passing data on internet\n",
    "    return json;\n",
    "}\n",
    "\n",
    "// make a new Person and assign to variable teacher\n",
    "var teacher = new Person(\"John Mortenson\", \"jm1021\", 1977);  // object type is easy to work with in JavaScript\n",
    "dataType(teacher);  // before role\n",
    "dataType(teacher.toJSON());  // ok to do this even though role is not yet defined\n",
    "\n",
    "// output of Object and JSON/string associated with Teacher\n",
    "teacher.setRole(\"Teacher\");   // set the role\n",
    "dataType(teacher); \n",
    "dataType(teacher.toJSON());"
   ]
  },
  {
   "cell_type": "code",
   "execution_count": 41,
   "metadata": {},
   "outputs": [
    {
     "name": "stdout",
     "output_type": "stream",
     "text": [
      "[object Object],[object Object],[object Object],[object Object],[object Object]: object\n",
      "John Mortenson: string\n",
      "{\"name\":\"John Mortenson\",\"ghID\":\"jm1021\",\"classOf\":1977,\"role\":\"Teacher\"}: string\n",
      "[object Object]: object\n"
     ]
    }
   ],
   "source": [
    "// define a student Array of Person(s)\n",
    "var students = [ \n",
    "    new Person(\"Evan Sanchez\", \"deimie\", 2023),\n",
    "    new Person(\"Calissa Tyrrell\", \"CalissaT\", 2023),\n",
    "    new Person(\"Samuel Wang\", \"Samuelwaang\", 2023),\n",
    "    new Person(\"Kian Pasokhi\", \"kiannp44\", 2023),\n",
    "];\n",
    "\n",
    "// define a classroom and build Classroom objects and json\n",
    "function Classroom(teacher, students){ // 1 teacher, many student\n",
    "    // start Classroom with Teacher\n",
    "    teacher.setRole(\"Teacher\");\n",
    "    this.teacher = teacher;\n",
    "    this.classroom = [teacher];\n",
    "    // add each Student to Classroom\n",
    "    this.students = students;\n",
    "    this.students.forEach(student => { student.setRole(\"Student\"); this.classroom.push(student); });\n",
    "    // build json/string format of Classroom\n",
    "    this.json = [];\n",
    "    this.classroom.forEach(person => this.json.push(person.toJSON()));\n",
    "}\n",
    "\n",
    "// make a CompSci classroom from formerly defined teacher and students\n",
    "compsci = new Classroom(teacher, students);\n",
    "\n",
    "// output of Objects and JSON in CompSci classroom\n",
    "dataType(compsci.classroom);  // constructed classroom object\n",
    "dataType(compsci.classroom[0].name);  // abstract 1st objects name\n",
    "dataType(compsci.json[0]);  // show json conversion of 1st object to string\n",
    "dataType(JSON.parse(compsci.json[0]));  // show JSON.parse inverse of JSON.stringify"
   ]
  },
  {
   "cell_type": "code",
   "execution_count": 42,
   "metadata": {},
   "outputs": [
    {
     "data": {
      "text/html": [
       "<style> \n",
       "        .dataTable th{ \n",
       "          color: gray; \n",
       "        } \n",
       "      </style><div><table class='dataTable'><tr><th>Name</th><th>GitHub ID</th><th>Class Of</th><th>Role</th></tr><tr><td>John Mortenson</td><td>jm1021</td><td>1977</td><td>Teacher</td><tr><tr><td>Evan Sanchez</td><td>deimie</td><td>2023</td><td>Student</td><tr><tr><td>Calissa Tyrrell</td><td>CalissaT</td><td>2023</td><td>Student</td><tr><tr><td>Samuel Wang</td><td>Samuelwaang</td><td>2023</td><td>Student</td><tr><tr><td>Kian Pasokhi</td><td>kiannp44</td><td>2023</td><td>Student</td><tr></table></div>"
      ]
     },
     "execution_count": 42,
     "metadata": {},
     "output_type": "execute_result"
    }
   ],
   "source": [
    "// define an HTML conversion \"method\" associated with Classroom\n",
    "Classroom.prototype._toHtml = function() {\n",
    "    // HTML Style is build using inline structure\n",
    "    var style = (\n",
    "      `<style> \n",
    "        .dataTable th{ \n",
    "          color: gray; \n",
    "        } \n",
    "      </style>`\n",
    "    );\n",
    "  \n",
    "    // HTML Body of Table is build as a series of concatenations (+=)\n",
    "    var body = \"\";\n",
    "    // Heading for Array Columns\n",
    "    body += \"<tr>\";\n",
    "    body += \"<th>\" + \"Name\" + \"</th>\";\n",
    "    body += \"<th>\" + \"GitHub ID\" + \"</th>\";\n",
    "    body += \"<th>\" + \"Class Of\" + \"</th>\";\n",
    "    body += \"<th>\" + \"Role\" + \"</th>\";\n",
    "    body += \"</tr>\";\n",
    "    // Data of Array, iterate through each row of compsci.classroom \n",
    "    for (var row in compsci.classroom) {\n",
    "      // tr for each row, a new line\n",
    "      body += \"<tr>\";\n",
    "      // td for each column of data\n",
    "      body += \"<td>\" + compsci.classroom[row].name + \"</td>\";\n",
    "      body += \"<td>\" + compsci.classroom[row].ghID + \"</td>\";\n",
    "      body += \"<td>\" + compsci.classroom[row].classOf + \"</td>\";\n",
    "      body += \"<td>\" + compsci.classroom[row].role + \"</td>\";\n",
    "      // tr to end line\n",
    "      body += \"<tr>\";\n",
    "    }\n",
    "  \n",
    "     // Build and HTML fragment of div, table, table body\n",
    "    return (\n",
    "      style +\n",
    "      \"<div>\" +\n",
    "        \"<table class='dataTable'>\" +\n",
    "          body +\n",
    "        \"</table>\" +\n",
    "      \"</div>\"\n",
    "    );\n",
    "  \n",
    "  };\n",
    "  \n",
    "  // IJavaScript HTML processor receive parameter of defined HTML fragment\n",
    "  $$.html(compsci._toHtml())  "
   ]
  }
 ],
 "metadata": {
  "kernelspec": {
   "display_name": "JavaScript (Node.js)",
   "language": "javascript",
   "name": "javascript"
  },
  "language_info": {
   "file_extension": ".js",
   "mimetype": "application/javascript",
   "name": "javascript",
   "version": "10.13.0"
  },
  "orig_nbformat": 4,
  "vscode": {
   "interpreter": {
    "hash": "aee8b7b246df8f9039afb4144a1f6fd8d2ca17a180786b69acc140d282b71a49"
   }
  }
 },
 "nbformat": 4,
 "nbformat_minor": 2
}
