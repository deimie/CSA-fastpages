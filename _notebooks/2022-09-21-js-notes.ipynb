{
 "cells": [
  {
   "cell_type": "markdown",
   "metadata": {},
   "source": [
    "# Javascript Notes\n",
    "\n",
    "* image: images/javascript.jpg"
   ]
  },
  {
   "cell_type": "markdown",
   "metadata": {},
   "source": [
    "### Javascript Data Types\n",
    "\n",
    "Here is a function that will print out the data type of an input."
   ]
  },
  {
   "cell_type": "code",
   "execution_count": 6,
   "metadata": {},
   "outputs": [
    {
     "name": "stdout",
     "output_type": "stream",
     "text": [
      "Hello: string\n",
      "3: number\n",
      "true: boolean\n",
      "null: object\n",
      "undefined: undefined\n"
     ]
    }
   ],
   "source": [
    "function dataType(data) {\n",
    "    console.log(data + \": \" + typeof data)\n",
    "}\n",
    "\n",
    "dataType(\"Hello\");\n",
    "dataType(3);\n",
    "dataType(true);\n",
    "dataType(null);\n",
    "dataType();\n"
   ]
  }
 ],
 "metadata": {
  "kernelspec": {
   "display_name": "JavaScript (Node.js)",
   "language": "javascript",
   "name": "javascript"
  },
  "language_info": {
   "file_extension": ".js",
   "mimetype": "application/javascript",
   "name": "javascript",
   "version": "10.13.0"
  },
  "orig_nbformat": 4,
  "vscode": {
   "interpreter": {
    "hash": "aee8b7b246df8f9039afb4144a1f6fd8d2ca17a180786b69acc140d282b71a49"
   }
  }
 },
 "nbformat": 4,
 "nbformat_minor": 2
}
