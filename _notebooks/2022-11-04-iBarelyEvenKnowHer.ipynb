{
 "cells": [
  {
   "cell_type": "markdown",
   "metadata": {},
   "source": [
    "# I Barely Even Know Her"
   ]
  },
  {
   "cell_type": "code",
   "execution_count": 104,
   "metadata": {},
   "outputs": [
    {
     "name": "stdout",
     "output_type": "stream",
     "text": [
      "Tell me a word: \n",
      "You: \"er\"\n",
      "\n",
      " her? I hardly even know her.\n"
     ]
    }
   ],
   "source": [
    "import java.util.Scanner;\n",
    "\n",
    "Scanner sc = new Scanner(System.in);\n",
    "\n",
    "System.out.println(\"Tell me a word: \");\n",
    "\n",
    "String word = sc.nextLine();\n",
    "int wordLen = word.length();\n",
    "\n",
    "System.out.println(\"You: \\\"\" +  word + \"\\\"\");\n",
    "System.out.println();\n",
    "\n",
    "if (wordLen >= 2) {\n",
    "    if (word.substring(wordLen-2, wordLen).equals(\"er\")) {\n",
    "        System.out.println(word.substring(0,wordLen-2) + \" her? I hardly even know her.\");\n",
    "    }\n",
    "    else {\n",
    "        System.out.println(\"Mhm...\");\n",
    "    }\n",
    "}\n",
    "else {\n",
    "    System.out.println(\"Mhm...\");\n",
    "}\n",
    "\n",
    "\n"
   ]
  }
 ],
 "metadata": {
  "kernelspec": {
   "display_name": "Java",
   "language": "java",
   "name": "java"
  },
  "language_info": {
   "name": "java"
  },
  "orig_nbformat": 4
 },
 "nbformat": 4,
 "nbformat_minor": 2
}
