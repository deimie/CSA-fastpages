{
 "cells": [
  {
   "cell_type": "markdown",
   "metadata": {},
   "source": [
    "# Python Notebook\n",
    "\n",
    "---\n",
    "image: images/pythonLogo.jpg\n",
    "---"
   ]
  },
  {
   "cell_type": "code",
   "execution_count": 2,
   "metadata": {},
   "outputs": [
    {
     "name": "stdout",
     "output_type": "stream",
     "text": [
      "[0, 1, 1, 2, 3]\n"
     ]
    }
   ],
   "source": [
    "n = int(input('Type the nth term in the fibonacci sequence: '))\n",
    "\n",
    "def fibonacci(n):\n",
    "  a=0\n",
    "  b=1\n",
    "  fibList = [0]\n",
    "\n",
    "  # there are no negative nth terms allowed\n",
    "  if n <=0:\n",
    "    print('Input must be greater than 0.')\n",
    "    fibonacci() # restart the program\n",
    "\n",
    "  # instead of using logic for the whole sequence, it's       easier to make the 1st term always return 0.\n",
    "  elif n == 1:\n",
    "    print(fibList)\n",
    "    return\n",
    "  \n",
    "  else:\n",
    "    fibList.append(1)\n",
    "    \n",
    "    # for loop will go through each number of the sequence      and append them into the list.\n",
    "    for i in range(2,n):\n",
    "      c = a + b\n",
    "      a = b\n",
    "      b = c\n",
    "      fibList.append(c)\n",
    "  print(fibList) # print final result\n",
    "      \n",
    "fibonacci(n)"
   ]
  }
 ],
 "metadata": {
  "kernelspec": {
   "display_name": "Python 3.10.2 64-bit",
   "language": "python",
   "name": "python3"
  },
  "language_info": {
   "codemirror_mode": {
    "name": "ipython",
    "version": 3
   },
   "file_extension": ".py",
   "mimetype": "text/x-python",
   "name": "python",
   "nbconvert_exporter": "python",
   "pygments_lexer": "ipython3",
   "version": "3.10.2"
  },
  "orig_nbformat": 4,
  "vscode": {
   "interpreter": {
    "hash": "aee8b7b246df8f9039afb4144a1f6fd8d2ca17a180786b69acc140d282b71a49"
   }
  }
 },
 "nbformat": 4,
 "nbformat_minor": 2
}
