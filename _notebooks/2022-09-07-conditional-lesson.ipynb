{
 "cells": [
  {
   "cell_type": "markdown",
   "metadata": {},
   "source": [
    "# Java Conditionals\n",
    "\n",
    "- image: images/javaLogo.png"
   ]
  },
  {
   "cell_type": "code",
   "execution_count": 7,
   "metadata": {},
   "outputs": [
    {
     "name": "stdout",
     "output_type": "stream",
     "text": [
      "1st True\n",
      "2nd True\n",
      "3rd True\n",
      "4th True\n"
     ]
    }
   ],
   "source": [
    "// De Morgan's Law Demonstration \n",
    "\n",
    "if (!(true && false)) { // if NOT (true AND false)\n",
    "    System.out.println(\"1st True\");\n",
    "}\n",
    "\n",
    "if (false || true) { //simplfied version of above condition. if false OR true\n",
    "    System.out.println(\"2nd True\");\n",
    "}\n",
    "\n",
    "/* According to De Morgan's law, a NOT condition will turn an AND into an OR and an OR into an AND. \n",
    "The two conditon above are the same condition. */\n",
    "\n",
    "if (!(false && !false)) { // if NOT (false AND NOT(false))\n",
    "    System.out.println(\"3rd True\");\n",
    "}\n",
    "\n",
    "if (true || true) { // simplified version of above condition. if true OR true\n",
    "    System.out.println(\"4th True\");\n",
    "}\n",
    "\n",
    "if (!(true || true)) { // this last one does not display because the OR switches to an AND and the trues switch to falses\n",
    "    System.out.println(\"5th True\");\n",
    "}"
   ]
  },
  {
   "cell_type": "code",
   "execution_count": 8,
   "metadata": {},
   "outputs": [
    {
     "name": "stdout",
     "output_type": "stream",
     "text": [
      "This is true\n",
      "This one's also true\n",
      "Nothing else was true, so this is the reponse if nothing else works.\n"
     ]
    }
   ],
   "source": [
    "// If, Else If, Else Demonstration\n",
    "\n",
    "if (1 == 1) { // if 1 is 1 (it always is) display true\n",
    "    System.out.println(\"This is true\");\n",
    "}\n",
    "\n",
    "if (1 == 2) { // 1 is not 2 so this is ignored\n",
    "    System.out.println(\"This won't display\");\n",
    "} \n",
    "else if (2 == 2){\n",
    "    System.out.println(\"This one's also true\");\n",
    "\n",
    "}\n",
    "\n",
    "if (1 == 2) { // Non-true statement\n",
    "    System.out.println(\"This isn't true\");\n",
    "}\n",
    "else if (1 == 3) { // Non-true statement\n",
    "    System.out.println(\"This isn't either\");\n",
    "}\n",
    "else { // Because no other statements were true, this is the last response\n",
    "    System.out.println(\"Nothing else was true, so this is the reponse if nothing else works.\");\n",
    "}"
   ]
  }
 ],
 "metadata": {
  "kernelspec": {
   "display_name": "Java",
   "language": "java",
   "name": "java"
  },
  "language_info": {
   "codemirror_mode": "java",
   "file_extension": ".jshell",
   "mimetype": "text/x-java-source",
   "name": "java",
   "pygments_lexer": "java",
   "version": "17.0.4+8"
  },
  "orig_nbformat": 4
 },
 "nbformat": 4,
 "nbformat_minor": 2
}
