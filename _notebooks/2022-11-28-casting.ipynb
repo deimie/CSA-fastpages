{
 "cells": [
  {
   "cell_type": "markdown",
   "metadata": {},
   "source": [
    "# Casting"
   ]
  },
  {
   "cell_type": "markdown",
   "metadata": {},
   "source": [
    "### Type Casting\n",
    "Type casting in Java is when you assign one primitive data type to another data type. The two types of casting are as follows:\n",
    "\n",
    "* **Widening Casting (automatically) - converting a smaller type to a larger type size**   \n",
    "byte -> short -> char -> int -> long -> float -> double\n",
    "\n",
    "* **Narrowing Casting (manually) - converting a larger type to a smaller size type**   \n",
    "double -> float -> long -> int -> char -> short -> byte"
   ]
  },
  {
   "cell_type": "code",
   "execution_count": 4,
   "metadata": {},
   "outputs": [
    {
     "name": "stdout",
     "output_type": "stream",
     "text": [
      "9\n",
      "9.0\n"
     ]
    }
   ],
   "source": [
    "public class wideningCasting {\n",
    "\n",
    "    public static void main(String args[]) {\n",
    "\n",
    "        int myInt = 9;\n",
    "        double myDouble = myInt;\n",
    "\n",
    "        System.out.println(myInt);\n",
    "        System.out.println(myDouble);\n",
    "\n",
    "    }\n",
    "}\n",
    "\n",
    "// widening is done automatically when you assign a smaller type to a larger one\n",
    "wideningCasting.main(null);"
   ]
  },
  {
   "cell_type": "code",
   "execution_count": 23,
   "metadata": {},
   "outputs": [
    {
     "name": "stdout",
     "output_type": "stream",
     "text": [
      "9.5\n",
      "9\n"
     ]
    }
   ],
   "source": [
    "public class narrowingCasting {\n",
    "\n",
    "    public static void main(String args[]) {\n",
    "\n",
    "        double myDouble = 9.5;\n",
    "        int myInt = (int) myDouble;\n",
    "\n",
    "        System.out.println(myDouble);\n",
    "        System.out.println(myInt);\n",
    "    }\n",
    "}\n",
    "\n",
    "/* \n",
    "in order to convert a larger data type to a smaller one, you must use (dataType) when defining the variable, or \n",
    "you will recieve an error about lossy conversion \n",
    "*/\n",
    "\n",
    "narrowingCasting.main(null);"
   ]
  },
  {
   "cell_type": "markdown",
   "metadata": {},
   "source": [
    "### Wrapper Classes\n",
    "A wrapper class provdies a way to use primitive data types as objects. Examples of primitive types and wrapper classes below.\n",
    "<table>\n",
    "    <tr>\n",
    "        <th>Primitive Type</th>\n",
    "        <td>byte</td>\n",
    "        <td>short</td>\n",
    "        <td>int</td>\n",
    "        <td>long</td>\n",
    "        <td>float</td>\n",
    "        <td>double</td>\n",
    "        <td>boolean</td>\n",
    "        <td>char</td> \n",
    "    </tr>\n",
    "    <tr>\n",
    "        <th>Wrapper Class</th>\n",
    "        <td>Byte</td>\n",
    "        <td>Short</td>\n",
    "        <td>Integer</td>\n",
    "        <td>Long</td>\n",
    "        <td>Float</td>\n",
    "        <td>Double</td>\n",
    "        <td>Boolean</td>\n",
    "        <td>Character</td>\n",
    "    </tr>\n",
    "</table>\n",
    "\n",
    "<br>\n",
    "\n",
    "#### Java example -\n",
    "\n",
    "``` java\n",
    "ArrayList<int> myNums = new ArrayList<int>(); // invalid\n",
    "\n",
    "ArrayList<Integer> myNums = new ArrayList<Integer>(); // valid\n",
    "\n",
    "```"
   ]
  },
  {
   "cell_type": "markdown",
   "metadata": {},
   "source": [
    "### Concatenation\n",
    "In java, concatenation is the combination of multiple strings to make one string. Below are the two ways of doing this -"
   ]
  },
  {
   "cell_type": "code",
   "execution_count": 30,
   "metadata": {},
   "outputs": [
    {
     "name": "stdout",
     "output_type": "stream",
     "text": [
      "Hello World!\n"
     ]
    }
   ],
   "source": [
    "// just add the strings and java does the work for you\n",
    "\n",
    "public class additionConcat {\n",
    "\n",
    "    public static void main(String args[]) {\n",
    "\n",
    "        String string1 = \"Hello \";\n",
    "        String string2 = \"World!\";\n",
    "        String string3 = string1 + string2;\n",
    "\n",
    "        System.out.println(string3);\n",
    "    }\n",
    "}\n",
    "\n",
    "additionConcat.main(null);"
   ]
  },
  {
   "cell_type": "code",
   "execution_count": 37,
   "metadata": {},
   "outputs": [
    {
     "name": "stdout",
     "output_type": "stream",
     "text": [
      "Hello Hello \n",
      "Hello World!\n",
      "World!World!\n",
      "World!Hello \n"
     ]
    }
   ],
   "source": [
    "// the manual concat() method\n",
    "\n",
    "public class manualConcat {\n",
    "\n",
    "    public static void main(String args[]) {\n",
    "\n",
    "        String string1 = \"Hello \";\n",
    "        String string2 = \"World!\";\n",
    "\n",
    "        System.out.println(string1.concat(string1));\n",
    "        System.out.println(string1.concat(string2));\n",
    "        System.out.println(string2.concat(string2));\n",
    "        System.out.println(string2.concat(string1));\n",
    "    }\n",
    "}\n",
    "\n",
    "// using the concat() method is a more dynamic and customizable way to concatenate strings\n",
    "manualConcat.main(null);"
   ]
  },
  {
   "cell_type": "markdown",
   "metadata": {},
   "source": [
    "### Math Class\n",
    "The Math class in java has many useful methods that run math functions, such as: absolute value, round up, round down, generate a random number, etc..."
   ]
  },
  {
   "cell_type": "code",
   "execution_count": 44,
   "metadata": {},
   "outputs": [
    {
     "ename": "UnresolvedReferenceException",
     "evalue": "Attempt to use definition snippet with unresolved references in Snippet:ClassKey(mathRandom)#44-\n\npublic class mathRandom {\n\n    public static void main(String args[]) {\n\n        int rand = abs(-1);\n\n        System.out.println(rand);\n    }\n}",
     "output_type": "error",
     "traceback": [
      "\u001b[1m\u001b[30m|   \u001b[1m\u001b[30m\u001b[0m",
      "\u001b[1m\u001b[30m|   \u001b[1m\u001b[30m\u001b[0m",
      "\u001b[1m\u001b[30m|   \u001b[1m\u001b[30mpublic class mathRandom {\u001b[0m",
      "\u001b[1m\u001b[30m|   \u001b[1m\u001b[30m\u001b[0m",
      "\u001b[1m\u001b[30m|   \u001b[1m\u001b[30m    public static void main(String args[]) {\u001b[0m",
      "\u001b[1m\u001b[30m|   \u001b[1m\u001b[30m\u001b[0m",
      "\u001b[1m\u001b[30m|   \u001b[1m\u001b[30m        int rand = abs(-1);\u001b[0m",
      "\u001b[1m\u001b[30m|   \u001b[1m\u001b[30m\u001b[0m",
      "\u001b[1m\u001b[30m|   \u001b[1m\u001b[30m        System.out.println(rand);\u001b[0m",
      "\u001b[1m\u001b[30m|   \u001b[1m\u001b[30m    }\u001b[0m",
      "\u001b[1m\u001b[30m|   \u001b[1m\u001b[30m}\u001b[0m",
      "\u001b[1m\u001b[31mUnresolved dependencies:\u001b[0m",
      "\u001b[1m\u001b[31m   - method abs(int)\u001b[0m"
     ]
    }
   ],
   "source": [
    "import java.lang.Math;\n",
    "\n",
    "public class mathRandom {\n",
    "\n",
    "    public static void main(String args[]) {\n",
    "\n",
    "        int rand = abs(-1);\n",
    "\n",
    "        System.out.println(rand);\n",
    "    }\n",
    "}\n",
    "\n",
    "mathRandom.main(null);"
   ]
  }
 ],
 "metadata": {
  "kernelspec": {
   "display_name": "Java",
   "language": "java",
   "name": "java"
  },
  "language_info": {
   "codemirror_mode": "java",
   "file_extension": ".jshell",
   "mimetype": "text/x-java-source",
   "name": "java",
   "pygments_lexer": "java",
   "version": "17.0.4+8"
  },
  "orig_nbformat": 4
 },
 "nbformat": 4,
 "nbformat_minor": 2
}
