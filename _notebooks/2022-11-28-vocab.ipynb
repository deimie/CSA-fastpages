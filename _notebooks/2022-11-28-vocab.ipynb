{
 "cells": [
  {
   "cell_type": "markdown",
   "metadata": {},
   "source": [
    "# Java Vocab\n",
    "\n",
    "- image: images/"
   ]
  },
  {
   "cell_type": "markdown",
   "metadata": {},
   "source": [
    "### Type Casting\n",
    "Type casting in Java is when you assign one primitive data type to another data type. The two types of casting are as follows:\n",
    "\n",
    "* **Widening Casting (automatically) - converting a smaller type to a larger type size**   \n",
    "byte -> short -> char -> int -> long -> float -> double\n",
    "\n",
    "* **Narrowing Casting (manually) - converting a larger type to a smaller size type**   \n",
    "double -> float -> long -> int -> char -> short -> byte"
   ]
  },
  {
   "cell_type": "code",
   "execution_count": 4,
   "metadata": {},
   "outputs": [
    {
     "name": "stdout",
     "output_type": "stream",
     "text": [
      "9\n",
      "9.0\n"
     ]
    }
   ],
   "source": [
    "public class wideningCasting {\n",
    "\n",
    "    public static void main(String args[]) {\n",
    "\n",
    "        int myInt = 9;\n",
    "        double myDouble = myInt;\n",
    "\n",
    "        System.out.println(myInt);\n",
    "        System.out.println(myDouble);\n",
    "\n",
    "    }\n",
    "}\n",
    "\n",
    "// widening is done automatically when you assign a smaller type to a larger one\n",
    "wideningCasting.main(null);"
   ]
  },
  {
   "cell_type": "code",
   "execution_count": 23,
   "metadata": {},
   "outputs": [
    {
     "name": "stdout",
     "output_type": "stream",
     "text": [
      "9.5\n",
      "9\n"
     ]
    }
   ],
   "source": [
    "public class narrowingCasting {\n",
    "\n",
    "    public static void main(String args[]) {\n",
    "\n",
    "        double myDouble = 9.5;\n",
    "        int myInt = (int) myDouble;\n",
    "\n",
    "        System.out.println(myDouble);\n",
    "        System.out.println(myInt);\n",
    "    }\n",
    "}\n",
    "\n",
    "/* \n",
    "in order to convert a larger data type to a smaller one, you must use (dataType) when defining the variable, or \n",
    "you will recieve an error about lossy conversion \n",
    "*/\n",
    "\n",
    "narrowingCasting.main(null);"
   ]
  },
  {
   "cell_type": "markdown",
   "metadata": {},
   "source": [
    "### Wrapper Classes\n",
    "A wrapper class provdies a way to use primitive data types as objects. Examples of primitive types and wrapper classes below.\n",
    "<table>\n",
    "    <tr>\n",
    "        <th>Primitive Type</th>\n",
    "        <td>byte</td>\n",
    "        <td>short</td>\n",
    "        <td>int</td>\n",
    "        <td>long</td>\n",
    "        <td>float</td>\n",
    "        <td>double</td>\n",
    "        <td>boolean</td>\n",
    "        <td>char</td> \n",
    "    </tr>\n",
    "    <tr>\n",
    "        <th>Wrapper Class</th>\n",
    "        <td>Byte</td>\n",
    "        <td>Short</td>\n",
    "        <td>Integer</td>\n",
    "        <td>Long</td>\n",
    "        <td>Float</td>\n",
    "        <td>Double</td>\n",
    "        <td>Boolean</td>\n",
    "        <td>Character</td>\n",
    "    </tr>\n",
    "</table>\n",
    "\n",
    "<br>\n",
    "\n",
    "#### Java example -\n",
    "\n",
    "``` java\n",
    "ArrayList<int> myNums = new ArrayList<int>(); // invalid\n",
    "\n",
    "ArrayList<Integer> myNums = new ArrayList<Integer>(); // valid\n",
    "\n",
    "```"
   ]
  },
  {
   "cell_type": "markdown",
   "metadata": {},
   "source": [
    "### Concatenation\n",
    "In java, concatenation is the combination of multiple strings to make one string. Below are the two ways of doing this -"
   ]
  },
  {
   "cell_type": "code",
   "execution_count": 30,
   "metadata": {},
   "outputs": [
    {
     "name": "stdout",
     "output_type": "stream",
     "text": [
      "Hello World!\n"
     ]
    }
   ],
   "source": [
    "// just add the strings and java does the work for you\n",
    "\n",
    "public class additionConcat {\n",
    "\n",
    "    public static void main(String args[]) {\n",
    "\n",
    "        String string1 = \"Hello \";\n",
    "        String string2 = \"World!\";\n",
    "        String string3 = string1 + string2;\n",
    "\n",
    "        System.out.println(string3);\n",
    "    }\n",
    "}\n",
    "\n",
    "additionConcat.main(null);"
   ]
  },
  {
   "cell_type": "code",
   "execution_count": 37,
   "metadata": {},
   "outputs": [
    {
     "name": "stdout",
     "output_type": "stream",
     "text": [
      "Hello Hello \n",
      "Hello World!\n",
      "World!World!\n",
      "World!Hello \n"
     ]
    }
   ],
   "source": [
    "// the manual concat() method\n",
    "\n",
    "public class manualConcat {\n",
    "\n",
    "    public static void main(String args[]) {\n",
    "\n",
    "        String string1 = \"Hello \";\n",
    "        String string2 = \"World!\";\n",
    "\n",
    "        System.out.println(string1.concat(string1));\n",
    "        System.out.println(string1.concat(string2));\n",
    "        System.out.println(string2.concat(string2));\n",
    "        System.out.println(string2.concat(string1));\n",
    "    }\n",
    "}\n",
    "\n",
    "// using the concat() method is a more dynamic and customizable way to concatenate strings\n",
    "manualConcat.main(null);"
   ]
  },
  {
   "cell_type": "markdown",
   "metadata": {},
   "source": [
    "### Math Class\n",
    "The Math class in java has many useful methods that run math functions, such as: absolute value, round up, round down, generate a random number, etc..."
   ]
  },
  {
   "cell_type": "code",
   "execution_count": 63,
   "metadata": {},
   "outputs": [
    {
     "name": "stdout",
     "output_type": "stream",
     "text": [
      "3\n",
      "96\n",
      "57\n",
      "24\n",
      "48\n",
      "66\n",
      "82\n",
      "22\n",
      "8\n",
      "43\n"
     ]
    }
   ],
   "source": [
    "import java.lang.Math;\n",
    "\n",
    "public class mathRandom {\n",
    "\n",
    "    public static void main(String args[]) {\n",
    "\n",
    "        /*\n",
    "         * This generates a random number between 0-1, multiplies this large decimal by 100, and then rounds it,\n",
    "         * so it's basically generating a random number between 0-100\n",
    "         */\n",
    "        for(int i = 0; i < 10; i++) {\n",
    "            System.out.println(Math.round(Math.random()*100));\n",
    "        }\n",
    "    }\n",
    "}\n",
    "\n",
    "// the random class is much better in my opinion than Math.random, but this method will generate a random double between 0-1\n",
    "mathRandom.main(null);"
   ]
  },
  {
   "cell_type": "markdown",
   "metadata": {},
   "source": [
    "### Compound Boolean Expressions / De Morgan's Law / Truth Tables\n",
    "\n",
    "<table>\n",
    "    <tr>\n",
    "        <th> AND </th>\n",
    "        <th> OR </th>\n",
    "        <th> NOT </th>\n",
    "    </tr>\n",
    "    <tr>\n",
    "        <td> && </td>\n",
    "        <td> || </td>\n",
    "        <td> ! </td>\n",
    "    </tr>\n",
    "</table>\n",
    "\n",
    "#### De Morgan's Law:\n",
    "When the ```NOT``` expression is applied to an ```AND```, it will switch it to an ```OR```. The same happens from ```OR``` to ```AND```.\n",
    "\n",
    "#### Truth Tables:\n",
    "A truth table is just a way of organizing true/false conditions.\n",
    "\n",
    "```\n",
    "A = true\n",
    "B = false\n",
    "C = true\n",
    "D = true\n",
    "```\n",
    "\n",
    "<table>\n",
    "    <tr>\n",
    "        <th></th>\n",
    "        <th>AND</th>\n",
    "        <th>OR</th>\n",
    "        <th>XOR</th>\n",
    "    </tr>\n",
    "    <tr>\n",
    "        <th>A, B</th>\n",
    "        <td>false</td>\n",
    "        <td>true</td>\n",
    "        <td>false</td>\n",
    "    </tr>\n",
    "        <th>C, D</th>\n",
    "        <td>true</td>\n",
    "        <td>true</td>\n",
    "        <td>true</td>\n",
    "</table>\n"
   ]
  },
  {
   "cell_type": "code",
   "execution_count": 69,
   "metadata": {},
   "outputs": [
    {
     "name": "stdout",
     "output_type": "stream",
     "text": [
      "True or false.\n",
      "False or true.\n"
     ]
    }
   ],
   "source": [
    "public class compBools {\n",
    "\n",
    "    public static void main(String args[]) {\n",
    "\n",
    "        if(true && false) {\n",
    "            System.out.println(\"True and false.\");\n",
    "        }\n",
    "\n",
    "        if(true || false) {\n",
    "            System.out.println(\"True or false.\");\n",
    "        }\n",
    "\n",
    "        \n",
    "// \"NOT(true AND false)\" is equivalent to \"false OR true\"\n",
    "        if(!(true && false)) {\n",
    "            System.out.println(\"False or true.\");\n",
    "        }\n",
    "    }\n",
    "}\n",
    "\n",
    "compBools.main(null);"
   ]
  }
 ],
 "metadata": {
  "kernelspec": {
   "display_name": "Java",
   "language": "java",
   "name": "java"
  },
  "language_info": {
   "codemirror_mode": "java",
   "file_extension": ".jshell",
   "mimetype": "text/x-java-source",
   "name": "java",
   "pygments_lexer": "java",
   "version": "17.0.4+8"
  },
  "orig_nbformat": 4
 },
 "nbformat": 4,
 "nbformat_minor": 2
}
