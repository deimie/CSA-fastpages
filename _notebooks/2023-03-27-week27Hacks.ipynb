{
 "cells": [
  {
   "attachments": {},
   "cell_type": "markdown",
   "metadata": {},
   "source": [
    "# Week 27 Hacks\n",
    "\n",
    "- image: images/collegeBoard.png"
   ]
  },
  {
   "cell_type": "code",
   "execution_count": 19,
   "metadata": {
    "vscode": {
     "languageId": "java"
    }
   },
   "outputs": [
    {
     "name": "stdout",
     "output_type": "stream",
     "text": [
      "Number 1 value: 13\n",
      "Number 2 value: 29\n",
      "Number 3 value: 36\n",
      "Number 4 value: 51\n",
      "Number 5 value: 52\n",
      "Number 6 value: 66\n",
      "Number 7 value: 72\n",
      "Number 8 value: 87\n",
      "Number 9 value: 98\n",
      "Number of steps: 20\n"
     ]
    }
   ],
   "source": [
    "public class Number {\n",
    "    private int value;\n",
    "\n",
    "    public Number(int value) {\n",
    "        this.value = value;\n",
    "    }\n",
    "\n",
    "    public int getValue() {\n",
    "        return value;\n",
    "    }\n",
    "}\n",
    "\n",
    "public class selectionSort {\n",
    "\n",
    "    public static void main(String args[]) {\n",
    "\n",
    "        Number[] num = new Number[9];\n",
    "        num[0] = new Number(98);\n",
    "        num[1] = new Number(87);\n",
    "        num[2] = new Number(72);\n",
    "        num[3] = new Number(66);\n",
    "        num[4] = new Number(52);\n",
    "        num[5] = new Number(51);\n",
    "        num[6] = new Number(36);\n",
    "        num[7] = new Number(29);\n",
    "        num[8] = new Number(13);\n",
    "\n",
    "        for (int i = 0; i < num.length - 1; i++) {\n",
    "            int minIndex = i;\n",
    "            for (int j = i + 1; j < num.length; j++) {\n",
    "                if (num[j].getValue() < num[minIndex].getValue()) {\n",
    "                    minIndex = j;\n",
    "                }\n",
    "            }\n",
    "            // swap the numbers at i and minIndex\n",
    "            Number temp = num[i];\n",
    "            num[i] = num[minIndex];\n",
    "            num[minIndex] = temp;\n",
    "        }\n",
    "        \n",
    "        // print sorted numbers\n",
    "        for (int i = 0; i < num.length; i++) {\n",
    "            System.out.println(\"Number \" + (i+1) + \" value: \" + num[i].getValue());\n",
    "        }\n",
    "\n",
    "    }\n",
    "}\n",
    "\n",
    "selectionSort.main(null);"
   ]
  },
  {
   "attachments": {},
   "cell_type": "markdown",
   "metadata": {},
   "source": [
    "### Big O Complexity of Selection Sort\n",
    "\n",
    "The Big O complexity of a given algorithm is a calculation of how many steps this algorithm would take to complete in the worst-case scenario. To find the big O complexity of selection sort, the first step would be to set up the worst-case scenario, which would be a list of numbers ordered from biggest to smallest. Using a list of 9 numbers means that the first number is set as the minimum, and then each number after is also set as the new minimum. This would take 9 steps for one number. This means that the algorithm will take 81 steps total to complete in this worst-case scenario. Finally our big O notation would be determined as n^2, since the worst case scenario took the number of indexes^2 to complete."
   ]
  }
 ],
 "metadata": {
  "kernelspec": {
   "display_name": "Java",
   "language": "java",
   "name": "java"
  },
  "language_info": {
   "codemirror_mode": "java",
   "file_extension": ".jshell",
   "mimetype": "text/x-java-source",
   "name": "Java",
   "pygments_lexer": "java",
   "version": "17.0.4+8"
  },
  "orig_nbformat": 4
 },
 "nbformat": 4,
 "nbformat_minor": 2
}
