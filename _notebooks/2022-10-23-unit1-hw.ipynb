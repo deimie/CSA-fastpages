{
 "cells": [
  {
   "cell_type": "markdown",
   "metadata": {},
   "source": [
    "# Unit 1 HW\n",
    "\n",
    "- image: images/collegeBoard.png"
   ]
  },
  {
   "cell_type": "markdown",
   "metadata": {},
   "source": [
    "### Hack 1.1\n",
    "Print your name and your team name in separate lines!"
   ]
  },
  {
   "cell_type": "code",
   "execution_count": 2,
   "metadata": {},
   "outputs": [
    {
     "name": "stdout",
     "output_type": "stream",
     "text": [
      "Evan Sanchez\n",
      "Team 10\n"
     ]
    }
   ],
   "source": [
    "public class Printing {\n",
    "\n",
    "    public static void main(String args[]) {\n",
    "        System.out.println(\"Evan Sanchez\");\n",
    "        System.out.println(\"Team 10\");\n",
    "    }\n",
    "}\n",
    "\n",
    "Printing.main(null);"
   ]
  },
  {
   "cell_type": "markdown",
   "metadata": {},
   "source": [
    "### Hack 1.2\n",
    "Create variables for your biodata (name, age, underclassmen or not, height in feet)"
   ]
  },
  {
   "cell_type": "code",
   "execution_count": 3,
   "metadata": {},
   "outputs": [],
   "source": [
    "public class Biodata {\n",
    "\n",
    "    public static void main(String[] args) {\n",
    "        \n",
    "        String name = \"Evan\";\n",
    "        int age = 17;\n",
    "        boolean underclassmen = false;\n",
    "        double height = 5.75;\n",
    "\n",
    "    }\n",
    "}\n",
    "\n",
    "Biodata.main(null);"
   ]
  },
  {
   "cell_type": "markdown",
   "metadata": {},
   "source": [
    "### Hack 1.3\n",
    "* Compute the remainder of 6 multiplied by 1234124 divided by 11345 minus 890809 plus 90800 (use order of operations) is divided by 980098, and store this in a variable called num (get an exact number as opposed to a whole number)   \n",
    "* Divide num by 100   \n",
    "* Print num   "
   ]
  },
  {
   "cell_type": "code",
   "execution_count": 9,
   "metadata": {},
   "outputs": [
    {
     "name": "stdout",
     "output_type": "stream",
     "text": [
      "-799357\n",
      "-7993\n"
     ]
    }
   ],
   "source": [
    "public class Num {\n",
    "\n",
    "    public static void main(String[] args) {\n",
    "\n",
    "        int num = ((6 * 1234124 / 11345 - 890809 + 90800) % 980098);\n",
    "        System.out.println(num);\n",
    "        System.out.println(num/100);\n",
    "    }\n",
    "}\n",
    "\n",
    "Num.main(null);"
   ]
  },
  {
   "cell_type": "markdown",
   "metadata": {},
   "source": [
    "### Hack 1.4\n",
    "* Create a code which performs mathmatical calculations with assignment operators!"
   ]
  },
  {
   "cell_type": "code",
   "execution_count": 12,
   "metadata": {},
   "outputs": [
    {
     "name": "stdout",
     "output_type": "stream",
     "text": [
      "18\n"
     ]
    }
   ],
   "source": [
    "public class math {\n",
    "\n",
    "    public static void main(String args[]) {\n",
    "\n",
    "        int a = 4;\n",
    "        int b = 5;\n",
    "        int c = 2;\n",
    "\n",
    "        a += b;\n",
    "        c *= a;\n",
    "        System.out.println(c);\n",
    "    }\n",
    "}\n",
    "\n",
    "math.main(null);"
   ]
  },
  {
   "cell_type": "markdown",
   "metadata": {},
   "source": [
    "### Hack 1.5\n",
    "* Convert 123456.123456 into an integer\n",
    "* Set 678901234567890 into an integer (what do you think will happen?)"
   ]
  },
  {
   "cell_type": "code",
   "execution_count": 20,
   "metadata": {},
   "outputs": [
    {
     "name": "stdout",
     "output_type": "stream",
     "text": [
      "123456\n"
     ]
    }
   ],
   "source": [
    "public class conversion {\n",
    "\n",
    "    public static void main(String args[]) {\n",
    "\n",
    "        double a = 123456.123456;\n",
    "        int b = (int) a;\n",
    "        System.out.println(b);\n",
    "\n",
    "        // this integer is too large and will create an error\n",
    "        //int c = 678901234567890; \n",
    "    }\n",
    "}\n",
    "\n",
    "conversion.main(null);"
   ]
  },
  {
   "cell_type": "markdown",
   "metadata": {},
   "source": [
    "### Homework"
   ]
  },
  {
   "cell_type": "code",
   "execution_count": 2,
   "metadata": {},
   "outputs": [
    {
     "name": "stdout",
     "output_type": "stream",
     "text": [
      "Is your final in an individual category? (t/f)\n",
      "What is your current grade?\n",
      "What percentage of your grade is the final?\n",
      "What grade do you plan to finish with?\n",
      "You need a -493.99997%\n"
     ]
    }
   ],
   "source": [
    "import java.util.Scanner;\n",
    "\n",
    "public class gradeCalc {\n",
    "\n",
    "    public static void main(String[] args) {\n",
    "\n",
    "        Scanner sc = new Scanner(System.in);\n",
    "        System.out.println(\"Is your final in an individual category? (t/f)\");\n",
    "        boolean testCat = sc.nextBoolean(); \n",
    "\n",
    "        if (testCat == true) {\n",
    "\n",
    "            //current grade\n",
    "            System.out.println(\"What is your current grade?\");  \n",
    "            float currentGrade = sc.nextInt();\n",
    "            currentGrade /= 100; \n",
    "\n",
    "            //percentage of final\n",
    "            System.out.println(\"What percentage of your grade is the final?\"); \n",
    "            float percentOfGrade = sc.nextInt();\n",
    "            percentOfGrade /= 100; \n",
    "\n",
    "            //desired grade\n",
    "            System.out.println(\"What grade do you plan to finish with?\");\n",
    "            float desiredGrade = sc.nextInt();\n",
    "            desiredGrade /= 100;\n",
    "\n",
    "            //grade needed calculation \n",
    "            float gradeNeeded = ((desiredGrade - ((1 - percentOfGrade)* currentGrade)) / percentOfGrade) * 100;\n",
    "            System.out.println(\"You need a \" + gradeNeeded + \"%\");\n",
    "        } \n",
    "        else {\n",
    "            System.out.println(\"No score inputed.\");\n",
    "        }  \n",
    "\n",
    "\n",
    "    }\n",
    "    \n",
    "\n",
    "}\n",
    "\n",
    "gradeCalc.main(null);"
   ]
  }
 ],
 "metadata": {
  "kernelspec": {
   "display_name": "Java",
   "language": "java",
   "name": "java"
  },
  "language_info": {
   "codemirror_mode": "java",
   "file_extension": ".jshell",
   "mimetype": "text/x-java-source",
   "name": "java",
   "pygments_lexer": "java",
   "version": "17.0.4+8"
  },
  "orig_nbformat": 4,
  "vscode": {
   "interpreter": {
    "hash": "aee8b7b246df8f9039afb4144a1f6fd8d2ca17a180786b69acc140d282b71a49"
   }
  }
 },
 "nbformat": 4,
 "nbformat_minor": 2
}
