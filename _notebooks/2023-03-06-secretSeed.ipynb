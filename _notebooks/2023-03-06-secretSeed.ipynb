{
 "cells": [
  {
   "attachments": {},
   "cell_type": "markdown",
   "metadata": {},
   "source": [
    "# Secret Seed Challenge\n",
    "\n",
    "- image: images/collegeBoard.png"
   ]
  },
  {
   "cell_type": "code",
   "execution_count": 13,
   "metadata": {},
   "outputs": [
    {
     "name": "stdout",
     "output_type": "stream",
     "text": [
      "Enter binary input: \n",
      "100\n",
      "Enter another binary input: \n",
      "1101\n",
      "\n",
      "Your output is: \n",
      "10001\n"
     ]
    }
   ],
   "source": [
    "import java.util.Scanner;\n",
    "\n",
    "public class binaryAddition {\n",
    "\n",
    "    public static void main(String[] args) {\n",
    "\n",
    "        Scanner sc = new Scanner(System.in); // scanner object\n",
    "\n",
    "        System.out.println(\"Enter binary input: \");\n",
    "        String input1 = sc.nextLine(); //takes input 1\n",
    "        System.out.println(input1);\n",
    "\n",
    "        System.out.println(\"Enter another binary input: \");\n",
    "        String input2 = sc.nextLine(); //takes input 2\n",
    "        System.out.println(input2);\n",
    "\n",
    "        int sum = Integer.parseInt(input1, 2) + Integer.parseInt(input2, 2); // takes decimal sum of inputs\n",
    "\n",
    "        System.out.println();\n",
    "        System.out.println(\"Your output is: \");\n",
    "        System.out.println(Integer.toBinaryString(sum)); // parse integer sum back to binary\n",
    "\n",
    "    }\n",
    "}\n",
    "\n",
    "\n",
    "binaryAddition.main(null);"
   ]
  }
 ],
 "metadata": {
  "kernelspec": {
   "display_name": "Java",
   "language": "java",
   "name": "java"
  },
  "language_info": {
   "codemirror_mode": "java",
   "file_extension": ".jshell",
   "mimetype": "text/x-java-source",
   "name": "java",
   "pygments_lexer": "java",
   "version": "17.0.4+8"
  },
  "orig_nbformat": 4
 },
 "nbformat": 4,
 "nbformat_minor": 2
}
