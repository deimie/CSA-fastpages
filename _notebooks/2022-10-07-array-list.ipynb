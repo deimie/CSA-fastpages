{
 "cells": [
  {
   "cell_type": "markdown",
   "metadata": {
    "vscode": {
     "languageId": "java"
    }
   },
   "source": [
    "# Array List Lesson\n",
    "\n",
    "- image: images/javaLogo.png"
   ]
  },
  {
   "cell_type": "code",
   "execution_count": 15,
   "metadata": {},
   "outputs": [
    {
     "name": "stdout",
     "output_type": "stream",
     "text": [
      "[Index1, Index2, Index3, Index4]\n",
      "Index2\n",
      "[Index1, Index2, Index3, Index4, Index5]\n",
      "Index 4 exists.\n"
     ]
    }
   ],
   "source": [
    "import java.util.Arrays;\n",
    "import java.util.ArrayList;\n",
    "\n",
    "public class arrayListLesson {\n",
    "\n",
    "    public static void main(String[] args) {\n",
    "\n",
    "        ArrayList<String> myArray = new ArrayList<>(Arrays.asList(\"Index1\", \"Index2\", \"Index3\", \"Index4\"));\n",
    "\n",
    "        System.out.println(myArray); // print entire list\n",
    "        System.out.println(myArray.get(1)); // print index 1 (starting at 0 of course)\n",
    "\n",
    "        myArray.add(\"Index5\");\n",
    "        System.out.println(myArray);\n",
    "\n",
    "        if(myArray.contains(\"Index4\")) { // .contains checks if an index exists\n",
    "            System.out.println(\"Index 4 exists.\");\n",
    "        }\n",
    "    }\n",
    "}\n",
    "\n",
    "\n",
    "arrayListLesson.main(null);"
   ]
  }
 ],
 "metadata": {
  "kernelspec": {
   "display_name": "Java",
   "language": "java",
   "name": "java"
  },
  "language_info": {
   "codemirror_mode": "java",
   "file_extension": ".jshell",
   "mimetype": "text/x-java-source",
   "name": "java",
   "pygments_lexer": "java",
   "version": "17.0.4+8"
  },
  "orig_nbformat": 4
 },
 "nbformat": 4,
 "nbformat_minor": 2
}
