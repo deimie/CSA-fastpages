{
 "cells": [
  {
   "cell_type": "code",
   "execution_count": null,
   "metadata": {
    "vscode": {
     "languageId": "java"
    }
   },
   "outputs": [],
   "source": []
  },
  {
   "cell_type": "code",
   "execution_count": 15,
   "metadata": {
    "vscode": {
     "languageId": "java"
    }
   },
   "outputs": [
    {
     "name": "stdout",
     "output_type": "stream",
     "text": [
      "[Index1, Index2, Index3, Index4]\n",
      "Index2\n",
      "[Index1, Index2, Index3, Index4, Index5]\n",
      "Index 4 exists.\n"
     ]
    }
   ],
   "source": [
    "import java.util.Arrays;\n",
    "import java.util.ArrayList;\n",
    "\n",
    "public class arrayListLesson {\n",
    "\n",
    "    public static void main(String[] args) {\n",
    "\n",
    "        ArrayList<String> myArray = new ArrayList<>(Arrays.asList(\"Index1\", \"Index2\", \"Index3\", \"Index4\"));\n",
    "\n",
    "        System.out.println(myArray); // print entire list\n",
    "        System.out.println(myArray.get(1)); // print index 1 (starting at 0 of course)\n",
    "\n",
    "        myArray.add(\"Index5\");\n",
    "        System.out.println(myArray);\n",
    "\n",
    "        if(myArray.contains(\"Index4\")) { // .contains checks if an index exists\n",
    "            System.out.println(\"Index 4 exists.\");\n",
    "        }\n",
    "    }\n",
    "}\n",
    "\n",
    "\n",
    "arrayListLesson.main(null);"
   ]
  },
  {
   "cell_type": "code",
   "execution_count": 10,
   "metadata": {
    "vscode": {
     "languageId": "java"
    }
   },
   "outputs": [
    {
     "name": "stdout",
     "output_type": "stream",
     "text": [
      "Enter your name -\n",
      "Enter your Github ID -\n",
      "Would you like to input another user? (y/n)\n",
      "Enter your name -\n",
      "Enter your Github ID -\n",
      "Would you like to input another user? (y/n)\n",
      "Enter your name -\n",
      "Enter your Github ID -\n",
      "Would you like to input another user? (y/n)\n",
      "Enter your name -\n",
      "Enter your Github ID -\n",
      "Would you like to input another user? (y/n)\n",
      "\n",
      "=================================\n",
      "Name: Evan\n",
      "Github ID: deimie\n",
      "\n",
      "Name: Calissa\n",
      "Github ID: calissaT\n",
      "\n",
      "Name: Samuel\n",
      "Github ID: samuelwaang\n",
      "\n",
      "Name: Kian\n",
      "Github ID: kiannp44\n",
      "\n"
     ]
    }
   ],
   "source": [
    "import java.util.Scanner;\n",
    "\n",
    "public class ghArray {\n",
    "    \n",
    "    public static void main(String[] args) {\n",
    "\n",
    "        ArrayList<String> ghArray = new ArrayList<>(); // create new array list\n",
    "        Scanner sc = new Scanner(System.in); // create new scanner object\n",
    "\n",
    "        String addNewUser = \"y\";\n",
    "\n",
    "        while (addNewUser.equals(\"y\")) { // as long as user wants to add a new user, repeat\n",
    "            System.out.println(\"Enter your name -\");\n",
    "            ghArray.add(\"Name: \" + sc.nextLine()); // take name input\n",
    "    \n",
    "            System.out.println(\"Enter your Github ID -\");\n",
    "            ghArray.add(\"Github ID: \" + sc.nextLine()); // take ghID input\n",
    "        \n",
    "            System.out.println(\"Would you like to input another user? (y/n)\");\n",
    "            addNewUser = sc.nextLine(); // input y/n to add another user\n",
    "        }\n",
    "        \n",
    "        \n",
    "\n",
    "        System.out.println();\n",
    "        System.out.println(\"=================================\"); // new line\n",
    "\n",
    "        for (int num = 0; num < ghArray.size(); num +=2){ // print every 2 indexes and leave a space\n",
    "            System.out.println(ghArray.get(num));\n",
    "            System.out.println(ghArray.get(num+1));\n",
    "            System.out.println();\n",
    "        }\n",
    "    }\n",
    "}\n",
    "\n",
    "ghArray.main(null);"
   ]
  }
 ],
 "metadata": {
  "kernelspec": {
   "display_name": "Java",
   "language": "java",
   "name": "java"
  },
  "language_info": {
   "codemirror_mode": "java",
   "file_extension": ".jshell",
   "mimetype": "text/x-java-source",
   "name": "Java",
   "pygments_lexer": "java",
   "version": "17.0.4+8"
  },
  "orig_nbformat": 4
 },
 "nbformat": 4,
 "nbformat_minor": 2
}
