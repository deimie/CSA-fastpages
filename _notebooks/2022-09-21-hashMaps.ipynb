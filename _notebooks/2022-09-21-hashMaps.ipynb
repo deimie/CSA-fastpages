{
 "cells": [
  {
   "cell_type": "markdown",
   "metadata": {},
   "source": [
    "# Hash Maps\n",
    "\n",
    "* image: images/"
   ]
  },
  {
   "cell_type": "code",
   "execution_count": 16,
   "metadata": {
    "vscode": {
     "languageId": "java"
    }
   },
   "outputs": [],
   "source": [
    "public class tester {\n",
    "\n",
    "    public static void main(String[] args) {\n",
    "        System.out.println(\"Tester\");\n",
    "    }\n",
    "}"
   ]
  },
  {
   "cell_type": "code",
   "execution_count": 7,
   "metadata": {
    "vscode": {
     "languageId": "java"
    }
   },
   "outputs": [],
   "source": [
    "import java.util.HashMap; // import the built-in hashMap for java \n",
    "\n",
    "public class HashMaps {\n",
    "    \n",
    "    public static void main(String[] args) {\n",
    "\n",
    "        // just some random variables to manage\n",
    "        int a = 10;\n",
    "        int b = 33;\n",
    "        int c = 59;\n",
    "\n",
    "        // instatiate \"firstHash\" object from the class \"HashMap\"\n",
    "        // putting <dataType1, dataType2, etc...> explicitly tells the program what each value will be\n",
    "        HashMap<String, Integer> firstHash = new HashMap<String, Integer>(); \n",
    "\n",
    "        // syntax: hashMapObject.put(key, value);\n",
    "        // the \"put(k, v)\" method allows us to insert a specific key and its value in a map\\\n",
    "        // the key is just a name. value is the value of said name\n",
    "        firstHash.put(\"a\", 10);\n",
    "        firstHash.put(\"b\", 33);\n",
    "        firstHash.put(\"c\", 59);\n",
    "\n",
    "        System.out.println(firstHash.get(\"c\"));\n",
    "    }\n",
    "}"
   ]
  },
  {
   "cell_type": "code",
   "execution_count": 15,
   "metadata": {
    "vscode": {
     "languageId": "java"
    }
   },
   "outputs": [],
   "source": [
    "public class advancedHashMap {\n",
    "\n",
    "        public static void main(String[] args) {\n",
    "                Hashmap<String, String> advancedHashMap = new HashMap<String, String>();\n",
    "\n",
    "                advancedHashMap.put(\"Evan\", \"Password123\");\n",
    "                advancedHashMap.put(\"Calissa\", \"P@55w0rd123!\");\n",
    "                advancedHashMap.put(\"Kian\", \"myPassword\");\n",
    "                advancedHashMap.put(\"Samuel\", \"m13_p@55w0rd?!?\");\n",
    "\n",
    "                System.out.println(advancedHashMap); \n",
    "        }\n",
    "}"
   ]
  }
 ],
 "metadata": {
  "kernelspec": {
   "display_name": "Java",
   "language": "java",
   "name": "java"
  },
  "language_info": {
   "codemirror_mode": "java",
   "file_extension": ".jshell",
   "mimetype": "text/x-java-source",
   "name": "Java",
   "pygments_lexer": "java",
   "version": "17.0.4+8"
  },
  "orig_nbformat": 4,
  "vscode": {
   "interpreter": {
    "hash": "39cdc3a34f060934a347f38629282a4e8a32f56f92bd647addc77f9177951363"
   }
  }
 },
 "nbformat": 4,
 "nbformat_minor": 2
}
