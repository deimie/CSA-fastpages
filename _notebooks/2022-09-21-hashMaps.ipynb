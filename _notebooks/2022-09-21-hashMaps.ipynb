{
 "cells": [
  {
   "cell_type": "markdown",
   "metadata": {},
   "source": [
    "# Hash Maps\n",
    "\n",
    "- image: images/javaLogo.png"
   ]
  },
  {
   "cell_type": "code",
   "execution_count": 16,
   "metadata": {},
   "outputs": [],
   "source": [
    "public class tester {\n",
    "\n",
    "    public static void main(String[] args) {\n",
    "        System.out.println(\"Tester\");\n",
    "    }\n",
    "}"
   ]
  },
  {
   "cell_type": "code",
   "execution_count": 9,
   "metadata": {},
   "outputs": [
    {
     "name": "stdout",
     "output_type": "stream",
     "text": [
      "59\n"
     ]
    }
   ],
   "source": [
    "import java.util.HashMap; // import the built-in hashMap for java \n",
    "\n",
    "public class HashMaps {\n",
    "    \n",
    "    public static void main(String[] args) {\n",
    "\n",
    "        // instatiate \"firstHash\" object from the class \"HashMap\"\n",
    "        // putting <dataType1, dataType2, etc...> explicitly tells the program what each value will be\n",
    "        HashMap<String, Integer> firstHash = new HashMap<String, Integer>(); \n",
    "\n",
    "        // syntax: hashMapObject.put(key, value);\n",
    "        // the \"put(k, v)\" method allows us to insert a specific key and its value in a map\\\n",
    "        // the key is just a name. value is the value of said name\n",
    "        firstHash.put(\"a\", 10);\n",
    "        firstHash.put(\"b\", 33);\n",
    "        firstHash.put(\"c\", 59);\n",
    "\n",
    "        System.out.println(firstHash.get(\"c\"));\n",
    "    }\n",
    "}\n",
    "\n",
    "HashMaps.main(null);"
   ]
  },
  {
   "cell_type": "code",
   "execution_count": 17,
   "metadata": {},
   "outputs": [
    {
     "name": "stdout",
     "output_type": "stream",
     "text": [
      "Username: Samuel\n",
      "Password: m13_p@55w0rd?!?\n",
      "\n",
      "Username: Kian\n",
      "Password: myPassword\n",
      "\n",
      "Username: Calissa\n",
      "Password: P@55w0rd123!\n",
      "\n",
      "Username: Evan\n",
      "Password: Password123\n",
      "\n",
      "{Samuel=m13_p@55w0rd?!?, Kian=myPassword, Calissa=P@55w0rd123!, Evan=Password123}\n"
     ]
    }
   ],
   "source": [
    "import java.util.HashMap;\n",
    "\n",
    "public class advancedHashMap {\n",
    "\n",
    "        public static void main(String[] args) {\n",
    "\n",
    "                // construct new \"advancedHashMap\" object from \"HashMap\" class\n",
    "                HashMap<String, String> advancedHashMap = new HashMap<String, String>();\n",
    "\n",
    "                advancedHashMap.put(\"Evan\", \"Password123\");\n",
    "                advancedHashMap.put(\"Calissa\", \"P@55w0rd123!\");\n",
    "                advancedHashMap.put(\"Kian\", \"myPassword\");\n",
    "                advancedHashMap.put(\"Samuel\", \"m13_p@55w0rd?!?\");\n",
    "\n",
    "                advancedHashMap.forEach((key, value) -> {\n",
    "                        System.out.println(\"Username: \" + key);\n",
    "                        System.out.println(\"Password: \" + value);\n",
    "                        System.out.println();\n",
    "                });\n",
    "\n",
    "                System.out.println(advancedHashMap);\n",
    "        }\n",
    "}\n",
    "\n",
    "advancedHashMap.main(null);"
   ]
  },
  {
   "cell_type": "code",
   "execution_count": 23,
   "metadata": {},
   "outputs": [
    {
     "name": "stdout",
     "output_type": "stream",
     "text": [
      "Test\n"
     ]
    }
   ],
   "source": [
    "public class temp {\n",
    "\n",
    "    public static void main(String[] args) {\n",
    "        System.out.println(\"Test\");\n",
    "    }\n",
    "}"
   ]
  }
 ],
 "metadata": {
  "kernelspec": {
   "display_name": "Java",
   "language": "java",
   "name": "java"
  },
  "language_info": {
   "codemirror_mode": "java",
   "file_extension": ".jshell",
   "mimetype": "text/x-java-source",
   "name": "java",
   "pygments_lexer": "java",
   "version": "17.0.4+8"
  },
  "orig_nbformat": 4,
  "vscode": {
   "interpreter": {
    "hash": "39cdc3a34f060934a347f38629282a4e8a32f56f92bd647addc77f9177951363"
   }
  }
 },
 "nbformat": 4,
 "nbformat_minor": 2
}
