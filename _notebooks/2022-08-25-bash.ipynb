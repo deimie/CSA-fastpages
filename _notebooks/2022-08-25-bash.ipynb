{
 "cells": [
  {
   "cell_type": "markdown",
   "metadata": {},
   "source": [
    "# Bash\n",
    "\n",
    "- image: images/bashLogo.png"
   ]
  },
  {
   "cell_type": "code",
   "execution_count": 2,
   "metadata": {},
   "outputs": [
    {
     "name": "stdout",
     "output_type": "stream",
     "text": [
      "bash: cd: vscode: No such file or directory\n",
      "2022-08-22-javaNotebook.ipynb\tREADME.md\n",
      "2022-08-22-pythonNotebook.ipynb\tghtop_images\n",
      "2022-08-25-bash.ipynb\t\tmy_icons\n",
      "2022-08-26-primitives.ipynb\n"
     ]
    }
   ],
   "source": [
    "cd vscode\n",
    "ls"
   ]
  },
  {
   "cell_type": "code",
   "execution_count": 5,
   "metadata": {},
   "outputs": [
    {
     "name": "stdout",
     "output_type": "stream",
     "text": [
      "Python 3.9.12\n",
      "Python 2.7.18\n",
      "openjdk 17.0.4 2022-07-19\n",
      "OpenJDK Runtime Environment Temurin-17.0.4+8 (build 17.0.4+8)\n",
      "OpenJDK 64-Bit Server VM Temurin-17.0.4+8 (build 17.0.4+8, mixed mode, sharing)\n",
      "javac 17.0.4\n"
     ]
    }
   ],
   "source": [
    "python --version\n",
    "python2 --version\n",
    "java --version\n",
    "javac --version"
   ]
  },
  {
   "cell_type": "code",
   "execution_count": 4,
   "metadata": {},
   "outputs": [
    {
     "name": "stdout",
     "output_type": "stream",
     "text": [
      "Available kernels:\n",
      "  bash          /Users/evan/Library/Jupyter/kernels/bash\n",
      "  java          /Users/evan/Library/Jupyter/kernels/java\n",
      "  javascript    /Users/evan/Library/Jupyter/kernels/javascript\n",
      "  python3       /Users/evan/opt/anaconda3/share/jupyter/kernels/python3\n"
     ]
    }
   ],
   "source": [
    "jupyter kernelspec list"
   ]
  },
  {
   "cell_type": "code",
   "execution_count": null,
   "metadata": {},
   "outputs": [],
   "source": []
  }
 ],
 "metadata": {
  "kernelspec": {
   "display_name": "Java",
   "language": "java",
   "name": "java"
  },
  "language_info": {
   "codemirror_mode": "shell",
   "file_extension": ".sh",
   "mimetype": "text/x-sh",
   "name": "java"
  },
  "orig_nbformat": 4,
  "vscode": {
   "interpreter": {
    "hash": "aee8b7b246df8f9039afb4144a1f6fd8d2ca17a180786b69acc140d282b71a49"
   }
  }
 },
 "nbformat": 4,
 "nbformat_minor": 2
}
