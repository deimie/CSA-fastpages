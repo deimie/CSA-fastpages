{
 "cells": [
  {
   "cell_type": "markdown",
   "metadata": {},
   "source": [
    "# Unit 3 Homework\n",
    "\n",
    "- image: images/collegeBoard.png"
   ]
  },
  {
   "cell_type": "markdown",
   "metadata": {},
   "source": [
    "Quadratic Formula Calculator"
   ]
  },
  {
   "cell_type": "code",
   "execution_count": 21,
   "metadata": {
    "vscode": {
     "languageId": "java"
    }
   },
   "outputs": [
    {
     "name": "stdout",
     "output_type": "stream",
     "text": [
      "Input a: \n",
      "Input b: \n",
      "Input c: \n",
      "\n",
      "--------------------\n",
      "Root 1: -0.20871215252208009\n",
      "Root 2: -4.7912878474779195\n"
     ]
    }
   ],
   "source": [
    "import java.util.Scanner; // import scanner\n",
    "import java.lang.Math; // import Math methods\n",
    "\n",
    "public class unit3 {\n",
    "\n",
    "    public static void main(String[] args) {\n",
    "\n",
    "        Scanner sc = new Scanner(System.in);\n",
    "\n",
    "        // input a, b, and c variables\n",
    "        System.out.println(\"Input a: \");\n",
    "        double a = sc.nextDouble();\n",
    "        System.out.println(\"Input b: \");\n",
    "        double b = sc.nextDouble();\n",
    "        System.out.println(\"Input c: \");\n",
    "        double c = sc.nextDouble();\n",
    "        \n",
    "        double insideRoot = (b * b) - (4.0 * a * c); // \"b^2 - 4ac\" part of quadratic formula\n",
    "        \n",
    "        double rt1 = (-b + Math.sqrt(insideRoot))/ 2.0*a; // -b + sqrt(b^2 - 4ac)\n",
    "        double rt2 = (-b - Math.sqrt(insideRoot))/ 2.0*a; // -b - sqrt(b^2 - 4ac)\n",
    "\n",
    "        System.out.println();\n",
    "        System.out.println(\"--------------------\");\n",
    "\n",
    "        // if the expression inside the sqrt is below 0, sqrt of <0 is an imaginary number. If it is 0, there is one root.\n",
    "        if (insideRoot > 0.0) {\n",
    "            System.out.println(\"Root 1: \" + rt1);\n",
    "            System.out.println(\"Root 2: \" + rt2);\n",
    "        }\n",
    "        else if (insideRoot == 0.0) {\n",
    "            System.out.println(\"Root 1: \" + rt1);\n",
    "        }\n",
    "        else {\n",
    "            System.out.println(\"There are no real roots\");\n",
    "        }\n",
    "\n",
    "    }\n",
    "}\n",
    "\n",
    "unit3.main(null);"
   ]
  }
 ],
 "metadata": {
  "kernelspec": {
   "display_name": "Java",
   "language": "java",
   "name": "java"
  },
  "language_info": {
   "codemirror_mode": "java",
   "file_extension": ".jshell",
   "mimetype": "text/x-java-source",
   "name": "Java",
   "pygments_lexer": "java",
   "version": "17.0.4+8"
  },
  "orig_nbformat": 4
 },
 "nbformat": 4,
 "nbformat_minor": 2
}
