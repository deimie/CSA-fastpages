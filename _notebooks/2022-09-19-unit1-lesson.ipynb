{
 "cells": [
  {
   "cell_type": "markdown",
   "metadata": {},
   "source": [
    "# Methods and Control Structures\n",
    "\n",
    "- image: images/collegeBoard.png"
   ]
  },
  {
   "cell_type": "markdown",
   "metadata": {},
   "source": [
    "**2019 AP® COMPUTER SCIENCE A FREE-RESPONSE QUESTIONS**\n",
    "\n",
    "2. This question involves the implementation of a fitness tracking system that is represented by the ```StepTracker``` class. A ```StepTracker``` object is created with a parameter that defines the minimum number of steps that must be taken for a day to be considered active.\n",
    "\n",
    "> The StepTracker class provides a constructor and the following methods. \n",
    "\n",
    "* ```addDailySteps```, which accumulates information about steps, in readings taken once per day\n",
    "\n",
    "* ```activeDays```, which returns the number of active days\n",
    "\n",
    "* ```averageSteps```, which returns the average number of steps per day, calculated by dividing the total number of steps taken by the number of days tracked "
   ]
  },
  {
   "cell_type": "code",
   "execution_count": 42,
   "metadata": {},
   "outputs": [],
   "source": [
    "public class StepTracker {   // new class 'StepTracker'\n",
    "\n",
    "    StepTracker st = new StepTracker(10000);\n",
    "\n",
    "    //variables which will be used in methods\n",
    "    private int days;\n",
    "    private int activeDays;\n",
    "    private int totalSteps;\n",
    "    private int minActive;\n",
    "\n",
    "    public int StepTracker(int m) {\n",
    "        minActive = m;\n",
    "    }\n",
    "\n",
    "    public int activeDays() { // returns # of active days\n",
    "        return activeDays;\n",
    "    }\n",
    "\n",
    "    public void addDailySteps(int steps) { // adds 1 to day counter and allows input of step count. will also incremenet active days if step count is met\n",
    "        days++;\n",
    "        totalSteps += steps;\n",
    "        if (steps >= minActive) {\n",
    "            activeDays++;\n",
    "        }\n",
    "    }\n",
    "\n",
    "    public double averageSteps() { // takes the average of steps across days\n",
    "        if (days > 0) {\n",
    "            return (double) totalSteps / days;\n",
    "        }\n",
    "        else {\n",
    "            return 0.0;\n",
    "        }\n",
    "    }\n",
    "}\n"
   ]
  }
 ],
 "metadata": {
  "kernelspec": {
   "display_name": "Java",
   "language": "java",
   "name": "java"
  },
  "language_info": {
   "name": "java"
  },
  "orig_nbformat": 4
 },
 "nbformat": 4,
 "nbformat_minor": 2
}
