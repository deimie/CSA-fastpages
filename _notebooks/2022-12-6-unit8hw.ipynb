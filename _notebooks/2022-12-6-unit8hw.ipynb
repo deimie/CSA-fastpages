{
 "cells": [
  {
   "cell_type": "markdown",
   "metadata": {},
   "source": [
    "# Unit 8 Homework\n",
    "\n",
    "- image: images/collegeBoard.png"
   ]
  },
  {
   "cell_type": "markdown",
   "metadata": {},
   "source": [
    "### Hack 1"
   ]
  },
  {
   "cell_type": "code",
   "execution_count": 19,
   "metadata": {
    "vscode": {
     "languageId": "java"
    }
   },
   "outputs": [
    {
     "name": "stdout",
     "output_type": "stream",
     "text": [
      "i\n"
     ]
    }
   ],
   "source": [
    "public class Test {\n",
    "\n",
    "    public static void main(String[] args) {\n",
    " \n",
    "      String[][] arr = {\n",
    "         { \"a\", \"f\", \"g\" },\n",
    "         { \"b\", \"e\", \"h\" },\n",
    "         { \"c\", \"d\", \"i\" }\n",
    "      };\n",
    " \n",
    "      // Print the last element in the array!\n",
    "      System.out.println(arr[arr.length-1][arr[0].length-1]);       \n",
    "    }\n",
    " \n",
    " }\n",
    " Test.main(null);"
   ]
  },
  {
   "cell_type": "markdown",
   "metadata": {},
   "source": [
    "### Hack 2"
   ]
  },
  {
   "cell_type": "code",
   "execution_count": 25,
   "metadata": {
    "vscode": {
     "languageId": "java"
    }
   },
   "outputs": [
    {
     "name": "stdout",
     "output_type": "stream",
     "text": [
      "Change Austin to Athens and print!\n",
      "Athens\n"
     ]
    }
   ],
   "source": [
    "public class Test {\n",
    "\n",
    "    public static void main(String[] args) {\n",
    " \n",
    "      String[][] arr = {\n",
    "         { \"Atlanta\", \"Baltimore\", \"Chicago\" },\n",
    "         { \"Australia\", \"Boston\", \"Cincinnati\" },\n",
    "         { \"Austin\", \"Beaumont\", \"Columbus\" }\n",
    "      };\n",
    " \n",
    "       // Change Austin to Athens and print!\n",
    "       System.out.println(\"Change Austin to Athens and print!\");\n",
    "       arr[2][0] = \"Athens\";\n",
    "       System.out.println(arr[2][0]);\n",
    "\n",
    "       \n",
    "    }\n",
    " \n",
    " }\n",
    " Test.main(null);"
   ]
  },
  {
   "cell_type": "markdown",
   "metadata": {},
   "source": [
    "### Hack 3"
   ]
  },
  {
   "cell_type": "code",
   "execution_count": 28,
   "metadata": {
    "vscode": {
     "languageId": "java"
    }
   },
   "outputs": [
    {
     "name": "stdout",
     "output_type": "stream",
     "text": [
      "Atlanta\n",
      "Baltimore\n",
      "Chicago\n",
      "Australia\n",
      "Boston\n",
      "Cincinnati\n",
      "Austin\n",
      "Beaumont\n",
      "Columbus\n"
     ]
    }
   ],
   "source": [
    "public class Test {\n",
    "\n",
    "    public static void main(String[] args) {\n",
    " \n",
    "       String[][] arr = {\n",
    "          { \"Atlanta\", \"Baltimore\", \"Chicago\" },\n",
    "          { \"Australia\", \"Boston\", \"Cincinnati\" },\n",
    "          { \"Austin\", \"Beaumont\", \"Columbus\" }\n",
    "       };\n",
    " \n",
    "       // Print out the array without using numerical values!\n",
    "       int row = arr.length;\n",
    "       int col = arr[0].length;\n",
    "\n",
    "       for(int x = 0; x < row; x++) {\n",
    "         for(int y = 0;y < col; y++) {\n",
    "            System.out.println(arr[x][y]);\n",
    "         }\n",
    "       }\n",
    "       \n",
    "    }\n",
    " \n",
    " }\n",
    " Test.main(null);"
   ]
  },
  {
   "cell_type": "markdown",
   "metadata": {},
   "source": [
    "### Hack 4"
   ]
  },
  {
   "cell_type": "code",
   "execution_count": 39,
   "metadata": {
    "vscode": {
     "languageId": "java"
    }
   },
   "outputs": [
    {
     "name": "stdout",
     "output_type": "stream",
     "text": [
      "Cincinnati\n"
     ]
    }
   ],
   "source": [
    "public class Test {\n",
    "\n",
    "    public static void main(String[] args) {\n",
    "  \n",
    "        String[][] arr = {\n",
    "            { \"Atlanta\", \"Baltimore\", \"Chicago\" },\n",
    "            { \"Australia\", \"Boston\", \"Cincinnati\" },\n",
    "            { \"Austin\", \"Beaumont\", \"Columbus\" }\n",
    "        };\n",
    "\n",
    "        String longest = arr[0][0];\n",
    "\n",
    "        // Use nested for loops to find the longest or shortest string!\n",
    "        int row = arr.length;\n",
    "        int col = arr[0].length;\n",
    "\n",
    "        for(int x = 0; x < row; x++) {\n",
    "            for(int y = 0;y < col; y++) {\n",
    "\n",
    "                if(arr[x][y].length() > longest.length()) {\n",
    "                    longest = arr[x][y];\n",
    "                }\n",
    "            }\n",
    "          }\n",
    "\n",
    "        System.out.println(longest);\n",
    "\n",
    "        \n",
    "    }\n",
    " \n",
    " }\n",
    "Test.main(null);"
   ]
  },
  {
   "cell_type": "markdown",
   "metadata": {},
   "source": [
    "### FRQ 4 - part a"
   ]
  },
  {
   "cell_type": "code",
   "execution_count": null,
   "metadata": {
    "vscode": {
     "languageId": "java"
    }
   },
   "outputs": [],
   "source": [
    "public static Position findPosition(int num, int[][] intArr) {\n",
    "    \n",
    "    for (int row=0; row < intArr.length; row++) {\n",
    "        for (int col=0; col < intArr[0].length; col++) {\n",
    "            if (intArr[row][col] == num) {\n",
    "                return new Position(row, col);\n",
    "            }\n",
    "        }\n",
    "    }\n",
    "    return null;\n",
    "}"
   ]
  },
  {
   "cell_type": "markdown",
   "metadata": {},
   "source": [
    "### FRQ 4 - part b"
   ]
  },
  {
   "cell_type": "code",
   "execution_count": null,
   "metadata": {
    "vscode": {
     "languageId": "java"
    }
   },
   "outputs": [],
   "source": [
    "public static Position[][] getSuccessorArray(int[][] intArr) {\n",
    "    \n",
    "    Position[][] newArr = new Position[intArr.length][intArr[0].length];\n",
    "\n",
    "    for (int row=0; row < intArr.length; row++) {\n",
    "        for (int col=0; col < intArr[0].length; col++) {\n",
    "            newArr[row][col] = findPosition(intArr[row][col]+1, intArr);\n",
    "        }\n",
    "    }\n",
    "    return newArr;\n",
    "}"
   ]
  },
  {
   "cell_type": "markdown",
   "metadata": {},
   "source": [
    "### Extra Credit"
   ]
  },
  {
   "cell_type": "code",
   "execution_count": 61,
   "metadata": {
    "vscode": {
     "languageId": "java"
    }
   },
   "outputs": [
    {
     "name": "stdout",
     "output_type": "stream",
     "text": [
      "   *    \n",
      "  ***   \n",
      " *****  \n",
      "******* \n",
      "   M    \n"
     ]
    }
   ],
   "source": [
    "public class xmasTree {\n",
    "\n",
    "    public static void main(String args[]) {\n",
    "\n",
    "        String[][] tree = {\n",
    "            {\" \",\" \",\" \",\"*\",\" \",\" \",\" \"},\n",
    "            {\" \",\" \",\"*\",\"*\",\"*\",\" \",\" \"},\n",
    "            {\" \",\"*\",\"*\",\"*\",\"*\",\"*\",\" \"},\n",
    "            {\"*\",\"*\",\"*\",\"*\",\"*\",\"*\",\"*\"},\n",
    "            {\" \",\" \",\" \",\"M\",\" \",\" \",\" \"}\n",
    "        };\n",
    "\n",
    "        int row = tree.length;\n",
    "        int col = tree[0].length;\n",
    "\n",
    "        for(int r = 0; r < row; r++) {\n",
    "            for(int c = 0; c < col; c++) {\n",
    "                System.out.print(tree[r][c]);\n",
    "            }\n",
    "            System.out.println(\" \");\n",
    "        }\n",
    "    }\n",
    "}\n",
    "\n",
    "xmasTree.main(null);"
   ]
  }
 ],
 "metadata": {
  "kernelspec": {
   "display_name": "Java",
   "language": "java",
   "name": "java"
  },
  "language_info": {
   "codemirror_mode": "java",
   "file_extension": ".jshell",
   "mimetype": "text/x-java-source",
   "name": "Java",
   "pygments_lexer": "java",
   "version": "17.0.4+8"
  },
  "orig_nbformat": 4,
  "vscode": {
   "interpreter": {
    "hash": "aee8b7b246df8f9039afb4144a1f6fd8d2ca17a180786b69acc140d282b71a49"
   }
  }
 },
 "nbformat": 4,
 "nbformat_minor": 2
}
