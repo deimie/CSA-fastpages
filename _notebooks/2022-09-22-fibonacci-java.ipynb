{
 "cells": [
  {
   "cell_type": "markdown",
   "metadata": {},
   "source": [
    "# Fibonacci With Java\n",
    "\n",
    "* image: images/"
   ]
  },
  {
   "cell_type": "code",
   "execution_count": 1,
   "metadata": {},
   "outputs": [
    {
     "name": "stdout",
     "output_type": "stream",
     "text": [
      "Init method = Stream\n",
      "fibonacci Number 20 = 4181\n",
      "fibonacci List = [0, 1, 1, 2, 3, 5, 8, 13, 21, 34, 55, 89, 144, 233, 377, 610, 987, 1597, 2584, 4181]\n",
      "fibonacci Hashmap = {0=[0], 1=[0, 1], 2=[0, 1, 1], 3=[0, 1, 1, 2], 4=[0, 1, 1, 2, 3], 5=[0, 1, 1, 2, 3, 5], 6=[0, 1, 1, 2, 3, 5, 8], 7=[0, 1, 1, 2, 3, 5, 8, 13], 8=[0, 1, 1, 2, 3, 5, 8, 13, 21], 9=[0, 1, 1, 2, 3, 5, 8, 13, 21, 34], 10=[0, 1, 1, 2, 3, 5, 8, 13, 21, 34, 55], 11=[0, 1, 1, 2, 3, 5, 8, 13, 21, 34, 55, 89], 12=[0, 1, 1, 2, 3, 5, 8, 13, 21, 34, 55, 89, 144], 13=[0, 1, 1, 2, 3, 5, 8, 13, 21, 34, 55, 89, 144, 233], 14=[0, 1, 1, 2, 3, 5, 8, 13, 21, 34, 55, 89, 144, 233, 377], 15=[0, 1, 1, 2, 3, 5, 8, 13, 21, 34, 55, 89, 144, 233, 377, 610], 16=[0, 1, 1, 2, 3, 5, 8, 13, 21, 34, 55, 89, 144, 233, 377, 610, 987], 17=[0, 1, 1, 2, 3, 5, 8, 13, 21, 34, 55, 89, 144, 233, 377, 610, 987, 1597], 18=[0, 1, 1, 2, 3, 5, 8, 13, 21, 34, 55, 89, 144, 233, 377, 610, 987, 1597, 2584], 19=[0, 1, 1, 2, 3, 5, 8, 13, 21, 34, 55, 89, 144, 233, 377, 610, 987, 1597, 2584, 4181]}\n",
      "fibonacci Sequence 1 = [0]\n",
      "fibonacci Sequence 2 = [0, 1]\n",
      "fibonacci Sequence 3 = [0, 1, 1]\n",
      "fibonacci Sequence 4 = [0, 1, 1, 2]\n",
      "fibonacci Sequence 5 = [0, 1, 1, 2, 3]\n",
      "fibonacci Sequence 6 = [0, 1, 1, 2, 3, 5]\n",
      "fibonacci Sequence 7 = [0, 1, 1, 2, 3, 5, 8]\n",
      "fibonacci Sequence 8 = [0, 1, 1, 2, 3, 5, 8, 13]\n",
      "fibonacci Sequence 9 = [0, 1, 1, 2, 3, 5, 8, 13, 21]\n",
      "fibonacci Sequence 10 = [0, 1, 1, 2, 3, 5, 8, 13, 21, 34]\n",
      "fibonacci Sequence 11 = [0, 1, 1, 2, 3, 5, 8, 13, 21, 34, 55]\n",
      "fibonacci Sequence 12 = [0, 1, 1, 2, 3, 5, 8, 13, 21, 34, 55, 89]\n",
      "fibonacci Sequence 13 = [0, 1, 1, 2, 3, 5, 8, 13, 21, 34, 55, 89, 144]\n",
      "fibonacci Sequence 14 = [0, 1, 1, 2, 3, 5, 8, 13, 21, 34, 55, 89, 144, 233]\n",
      "fibonacci Sequence 15 = [0, 1, 1, 2, 3, 5, 8, 13, 21, 34, 55, 89, 144, 233, 377]\n",
      "fibonacci Sequence 16 = [0, 1, 1, 2, 3, 5, 8, 13, 21, 34, 55, 89, 144, 233, 377, 610]\n",
      "fibonacci Sequence 17 = [0, 1, 1, 2, 3, 5, 8, 13, 21, 34, 55, 89, 144, 233, 377, 610, 987]\n",
      "fibonacci Sequence 18 = [0, 1, 1, 2, 3, 5, 8, 13, 21, 34, 55, 89, 144, 233, 377, 610, 987, 1597]\n",
      "fibonacci Sequence 19 = [0, 1, 1, 2, 3, 5, 8, 13, 21, 34, 55, 89, 144, 233, 377, 610, 987, 1597, 2584]\n",
      "fibonacci Sequence 20 = [0, 1, 1, 2, 3, 5, 8, 13, 21, 34, 55, 89, 144, 233, 377, 610, 987, 1597, 2584, 4181]\n"
     ]
    }
   ],
   "source": [
    "import java.util.ArrayList;  \n",
    "import java.util.HashMap;\n",
    "import java.util.stream.Stream;\n",
    "\n",
    "public class Fibo {\n",
    "    String name;\n",
    "    int size;\n",
    "    int hashID;\n",
    "    ArrayList<Long> list;\n",
    "    HashMap<Integer, Object> hash;\n",
    "\n",
    "    public Fibo() {\n",
    "        this(20);\n",
    "    }\n",
    "\n",
    "    public Fibo(int nth) {\n",
    "        this.size = nth;\n",
    "        this.list = new ArrayList<>();\n",
    "        this.hashID = 0;\n",
    "        this.hash = new HashMap<>();\n",
    "        this.init();\n",
    "    }\n",
    "\n",
    "    protected void init() {\n",
    "        this.name = \"Stream\";\n",
    "        Stream.iterate(new long[]{0, 1}, f -> new long[]{f[1], f[0] + f[1]})\n",
    "            .limit(this.size)\n",
    "            .forEach(f -> this.setData(f[0]) );\n",
    "    }\n",
    "\n",
    "    public void setData(long num) {\n",
    "        list.add(num);\n",
    "        hash.put(this.hashID++, list.clone());\n",
    "    }\n",
    "\n",
    "    public long getNth() {\n",
    "        return list.get(this.size - 1);\n",
    "    }\n",
    "\n",
    "    public Object getNthSeq(int i) {\n",
    "        return hash.get(i);\n",
    "    }\n",
    "\n",
    "    public void print() {\n",
    "        System.out.println(\"Init method = \" + this.name);\n",
    "        System.out.println(\"fibonacci Number \" + this.size + \" = \" + this.getNth());\n",
    "        System.out.println(\"fibonacci List = \" + this.list);\n",
    "        System.out.println(\"fibonacci Hashmap = \" + this.hash);\n",
    "        for (int i=0 ; i<this.size; i++ ) {\n",
    "            System.out.println(\"fibonacci Sequence \" + (i+1) + \" = \" + this.getNthSeq(i));\n",
    "        }\n",
    "    }\n",
    "\n",
    "    static public void main(String[] args) {\n",
    "        Fibo fib = new Fibo();\n",
    "        fib.print();\n",
    "    }\n",
    "}\n",
    "Fibo.main(null);"
   ]
  }
 ],
 "metadata": {
  "kernelspec": {
   "display_name": "Java",
   "language": "java",
   "name": "java"
  },
  "language_info": {
   "codemirror_mode": "java",
   "file_extension": ".jshell",
   "mimetype": "text/x-java-source",
   "name": "java",
   "pygments_lexer": "java",
   "version": "17.0.4+8"
  },
  "orig_nbformat": 4
 },
 "nbformat": 4,
 "nbformat_minor": 2
}
