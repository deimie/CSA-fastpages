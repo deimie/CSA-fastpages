{
 "cells": [
  {
   "cell_type": "markdown",
   "metadata": {},
   "source": [
    "# Unit 3 Homework\n",
    "\n",
    "- image: images/collegeBoard.png"
   ]
  },
  {
   "cell_type": "markdown",
   "metadata": {},
   "source": [
    "### Quadratic Formula Calculator"
   ]
  },
  {
   "cell_type": "code",
   "execution_count": 134,
   "metadata": {},
   "outputs": [
    {
     "name": "stdout",
     "output_type": "stream",
     "text": [
      "Input a: \n",
      "Input b: \n",
      "Input c: \n",
      "\n",
      "--------------------\n",
      "Root 1: -5.753788748764679\n",
      "Root 2: -22.246211251235323\n"
     ]
    }
   ],
   "source": [
    "import java.util.Scanner; // import scanner\n",
    "import java.lang.Math; // import Math methods\n",
    "\n",
    "public class unit3 {\n",
    "\n",
    "    public static void main(String[] args) {\n",
    "\n",
    "        Scanner sc = new Scanner(System.in);\n",
    "\n",
    "        // input a, b, and c variables\n",
    "        System.out.println(\"Input a: \");\n",
    "        double a = sc.nextDouble();\n",
    "        System.out.println(\"Input b: \");\n",
    "        double b = sc.nextDouble();\n",
    "        System.out.println(\"Input c: \");\n",
    "        double c = sc.nextDouble();\n",
    "        \n",
    "        double insideRoot = (b * b) - (4.0 * a * c); // \"b^2 - 4ac\" part of quadratic formula\n",
    "        \n",
    "        double rt1 = (-b + Math.sqrt(insideRoot))/ 2.0*a; // -b + sqrt(b^2 - 4ac)\n",
    "        double rt2 = (-b - Math.sqrt(insideRoot))/ 2.0*a; // -b - sqrt(b^2 - 4ac)\n",
    "\n",
    "        System.out.println();\n",
    "        System.out.println(\"--------------------\");\n",
    "\n",
    "        // if the expression inside the sqrt is below 0, sqrt of <0 is an imaginary number. If it is 0, there is one root.\n",
    "        if (insideRoot > 0.0) {\n",
    "            System.out.println(\"Root 1: \" + rt1);\n",
    "            System.out.println(\"Root 2: \" + rt2);\n",
    "        }\n",
    "        else if (insideRoot == 0.0) {\n",
    "            System.out.println(\"Root 1: \" + rt1);\n",
    "        }\n",
    "        else {\n",
    "            System.out.println(\"There are no real roots\");\n",
    "        }\n",
    "\n",
    "    }\n",
    "}\n",
    "\n",
    "unit3.main(null);"
   ]
  },
  {
   "cell_type": "markdown",
   "metadata": {},
   "source": [
    "### Postive or Negative Number Check"
   ]
  },
  {
   "cell_type": "code",
   "execution_count": 41,
   "metadata": {},
   "outputs": [
    {
     "name": "stdout",
     "output_type": "stream",
     "text": [
      "Enter a number: \n",
      "Input is: 0.05\n",
      "--------------------\n",
      "Input is a small positive number.\n"
     ]
    }
   ],
   "source": [
    "public class numberCheck {\n",
    "\n",
    "    public static void main(String[] args) {\n",
    "\n",
    "        Scanner sc = new Scanner(System.in);\n",
    "\n",
    "        System.out.println(\"Enter a number: \");\n",
    "        double input = sc.nextDouble();\n",
    "        System.out.println(\"Input is: \" + input);\n",
    "\n",
    "        System.out.println(\"--------------------\");\n",
    "\n",
    "        if (input > 0.0) {\n",
    "            if (input >= 1000000.0) {\n",
    "                System.out.println(\"Input is a large positive number.\");\n",
    "            }\n",
    "            else if (input <= 1.0) {\n",
    "                System.out.println(\"Input is a small positive number.\");\n",
    "            }\n",
    "            else {\n",
    "                System.out.println(\"Input is a positive number.\");\n",
    "            }\n",
    "        }\n",
    "        else if (input < 0.0) {\n",
    "            if (Math.abs(input) >= 1000000.0) {\n",
    "                System.out.println(\"Input is a large negative number.\");\n",
    "            }\n",
    "            else if (Math.abs(input) <= 1.0) {\n",
    "                System.out.println(\"Input is a small negative number.\");\n",
    "            }\n",
    "            else {\n",
    "                System.out.println(\"Input is a negative number.\");\n",
    "            }\n",
    "        }\n",
    "        else {\n",
    "            System.out.println(\"Input is 0.\");\n",
    "        }\n",
    "    }\n",
    "}\n",
    "\n",
    "numberCheck.main(null);"
   ]
  },
  {
   "cell_type": "markdown",
   "metadata": {},
   "source": [
    "### Check if Numbers are Same\n",
    "Up to 3 decimal places of similarity"
   ]
  },
  {
   "cell_type": "code",
   "execution_count": 64,
   "metadata": {},
   "outputs": [
    {
     "name": "stdout",
     "output_type": "stream",
     "text": [
      "Input a number: \n",
      "Input another number: \n",
      "\n",
      "Input 1: 1.0\n",
      "Input 2: 3.0\n",
      "\n",
      "--------------------\n",
      "Inputs are different.\n"
     ]
    }
   ],
   "source": [
    "public class numbersSame {\n",
    "\n",
    "    public static void main(String[] args){\n",
    "        \n",
    "        Scanner sc = new Scanner(System.in);\n",
    "\n",
    "        System.out.println(\"Input a number: \");\n",
    "        double input1 = Math.round(sc.nextDouble() * 1000);\n",
    "        input1 /= 1000;\n",
    "\n",
    "        System.out.println(\"Input another number: \");\n",
    "        double input2 = Math.round(sc.nextDouble() * 1000);\n",
    "        input2 /= 1000;\n",
    "\n",
    "        System.out.println();\n",
    "        System.out.println(\"Input 1: \" + input1);\n",
    "        System.out.println(\"Input 2: \" + input2);\n",
    "\n",
    "        System.out.println();\n",
    "        System.out.println(\"--------------------\");\n",
    "\n",
    "        if (input1 == input2) {\n",
    "            System.out.println(\"Both inputs are the same.\");\n",
    "        }\n",
    "        else {\n",
    "            System.out.println(\"Inputs are different.\");\n",
    "        }\n",
    "        \n",
    "    }\n",
    "}\n",
    "\n",
    "numbersSame.main(null);"
   ]
  },
  {
   "cell_type": "markdown",
   "metadata": {},
   "source": [
    "### Vowel or Consonant Check"
   ]
  },
  {
   "cell_type": "code",
   "execution_count": 133,
   "metadata": {},
   "outputs": [
    {
     "name": "stdout",
     "output_type": "stream",
     "text": [
      "Input is larger than 1 character.\n"
     ]
    }
   ],
   "source": [
    "public class alphabetCheck {\n",
    "\n",
    "    public static void main(String[] args) {\n",
    "\n",
    "        Scanner sc = new Scanner(System.in);\n",
    "\n",
    "        String input = sc.nextLine().toLowerCase();\n",
    "\n",
    "        String alphabet = \"abcdefghijklmnopqrstuvwxyz\";\n",
    "        boolean vowels = input.equals(\"a\") || input.equals(\"e\") || input.equals(\"i\") || input.equals(\"o\") || input.equals(\"u\");\n",
    "\n",
    "        for (int i = 0; i < alphabet.length(); i++) { // compare input with each index of\n",
    "            char c = alphabet.charAt(i);\n",
    "\n",
    "            if (i == 25 && input.charAt(0) != c) { // if input is not in the alphabet\n",
    "                System.out.println(\"Input is not in the alphabet.\");\n",
    "            }  \n",
    "\n",
    "            else if (input.charAt(0) == c) { // if input matches a letter in alphabet, check if its vowel or consonant\n",
    "\n",
    "                if (input.length() > 1) {\n",
    "                    System.out.println(\"Input is larger than 1 character.\");\n",
    "                }\n",
    "                else if (vowels) {\n",
    "                    System.out.println(\"Input is a vowel\");\n",
    "                }\n",
    "                else {\n",
    "                    System.out.println(\"Input is a consonant\");\n",
    "                }\n",
    "                break;\n",
    "            }\n",
    "\n",
    "        }     \n",
    "    }\n",
    "}\n",
    "\n",
    "alphabetCheck.main(null);"
   ]
  }
 ],
 "metadata": {
  "kernelspec": {
   "display_name": "Java",
   "language": "java",
   "name": "java"
  },
  "language_info": {
   "codemirror_mode": "java",
   "file_extension": ".jshell",
   "mimetype": "text/x-java-source",
   "name": "java",
   "pygments_lexer": "java",
   "version": "17.0.4+8"
  },
  "orig_nbformat": 4
 },
 "nbformat": 4,
 "nbformat_minor": 2
}
