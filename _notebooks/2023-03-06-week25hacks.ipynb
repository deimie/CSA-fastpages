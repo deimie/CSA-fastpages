{
 "cells": [
  {
   "attachments": {},
   "cell_type": "markdown",
   "metadata": {},
   "source": [
    "# Week 25 Hacks\n",
    "\n",
    "- image: images/collegeBoard.png"
   ]
  },
  {
   "attachments": {},
   "cell_type": "markdown",
   "metadata": {},
   "source": [
    "### Binary Addition\n",
    "Takes two binary inputs, adds them, and displays the sum in binary."
   ]
  },
  {
   "cell_type": "code",
   "execution_count": 23,
   "metadata": {},
   "outputs": [
    {
     "name": "stdout",
     "output_type": "stream",
     "text": [
      "Enter binary input: \n",
      "10\n",
      "Enter another binary input: \n",
      "01\n",
      "\n",
      "Your output is: \n",
      "11\n"
     ]
    }
   ],
   "source": [
    "import java.util.Scanner;\n",
    "\n",
    "public class binaryAddition {\n",
    "\n",
    "    public static void main(String[] args) {\n",
    "\n",
    "        Scanner sc = new Scanner(System.in); // scanner object\n",
    "\n",
    "        System.out.println(\"Enter binary input: \");\n",
    "        String input1 = sc.nextLine(); //takes input 1\n",
    "        System.out.println(input1);\n",
    "\n",
    "        System.out.println(\"Enter another binary input: \");\n",
    "        String input2 = sc.nextLine(); //takes input 2\n",
    "        System.out.println(input2);\n",
    "\n",
    "        int sum = Integer.parseInt(input1, 2) + Integer.parseInt(input2, 2); // takes parsedInt sum of inputs\n",
    "\n",
    "        System.out.println();\n",
    "        System.out.println(\"Your output is: \");\n",
    "        System.out.println(Integer.toBinaryString(sum)); // parse integer sum back to binary\n",
    "\n",
    "    }\n",
    "}\n",
    "\n",
    "\n",
    "binaryAddition.main(null);"
   ]
  },
  {
   "cell_type": "code",
   "execution_count": 50,
   "metadata": {},
   "outputs": [
    {
     "name": "stdout",
     "output_type": "stream",
     "text": [
      "69 in binary is: 1000101\n",
      "Enter binary input: \n",
      "Input as decimal: 2\n",
      "Enter another binary input: \n",
      "input as decimal: 1\n",
      "\n",
      "Your output is: 11\n"
     ]
    }
   ],
   "source": [
    "import java.lang.Integer;\n",
    "\n",
    "public class binaryAdditionAlgo {\n",
    "\n",
    "    public static int binToDec(Integer input) { // convert binary to decimal\n",
    "        Integer inputLen = input.toString().length(); // length of input 1\n",
    "        Integer dec = 0;\n",
    "        String tmp;\n",
    "\n",
    "        for (int i = 0; i < inputLen; i++) { // will iterate for as many digits in binary input\n",
    "            tmp = input.toString().substring(inputLen-1-i,inputLen-i); // starts iterating from the last digit of binary moving backwards\n",
    "            dec += Integer.parseInt(tmp) * (int) Math.pow(2,i); // adds up each iteration of the current binary digit * 2^i\n",
    "        }\n",
    "\n",
    "        return dec;\n",
    "    }\n",
    "\n",
    "    public static int decToBin(Integer input) {\n",
    "        Integer mod = 0;\n",
    "        String output = \"\";\n",
    "        while (input > 0) {\n",
    "            mod = input % 2;\n",
    "            input = (int) Math.floor(input/2);\n",
    "            output = output.concat(mod.toString()); // concat each modulo to final string\n",
    "            \n",
    "        }\n",
    "        output = new StringBuilder(output).reverse().toString(); // reverse string\n",
    "        return Integer.parseInt(output); // return string parsed back to int\n",
    "    }\n",
    "\n",
    "    public static void main(String[] args) {\n",
    "\n",
    "        Scanner sc = new Scanner(System.in); // scanner object\n",
    "\n",
    "        System.out.println(\"Enter binary input: \");\n",
    "        Integer dec1 = binToDec(sc.nextInt());\n",
    "        System.out.println(\"Input as decimal: \" + dec1);\n",
    "        \n",
    "\n",
    "        System.out.println(\"Enter another binary input: \");\n",
    "        Integer dec2 = binToDec(sc.nextInt());\n",
    "        System.out.println(\"input as decimal: \" + dec2);\n",
    "\n",
    "        System.out.println();\n",
    "\n",
    "        Integer sum = decToBin(dec1+dec2);\n",
    "        System.out.println(\"Your output is: \" + sum);\n",
    "\n",
    "    }\n",
    "}\n",
    "\n",
    "\n",
    "binaryAdditionAlgo.main(null);"
   ]
  },
  {
   "attachments": {},
   "cell_type": "markdown",
   "metadata": {},
   "source": [
    "### Data Types\n",
    "A brief overview of int, double, boolean, and char data types."
   ]
  },
  {
   "cell_type": "code",
   "execution_count": 92,
   "metadata": {},
   "outputs": [
    {
     "name": "stdout",
     "output_type": "stream",
     "text": [
      "Int 0: 231\n",
      "Int 1: 998\n",
      "Int 2: 687\n",
      "\n",
      "Double 0: 182.25046098320286\n",
      "Double 1: 148.91749221450078\n",
      "Double 2: 111.39723548772373\n",
      "\n",
      "Bool 1 is true\n",
      "\n",
      "Character 1: a"
     ]
    }
   ],
   "source": [
    "public class wrapperClasses {\n",
    "\n",
    "    public static void main(String args[]) {\n",
    "\n",
    "        // integer array --------------------\n",
    "        int[] intArr = new int[3];\n",
    "        \n",
    "        for (int i = 0; i < intArr.length; i++) {\n",
    "            intArr[i] = (int) Math.floor(Math.random() * 1000);\n",
    "            System.out.println(\"Int \" + i + \": \" + intArr[i]);\n",
    "        }\n",
    "        System.out.println();\n",
    "\n",
    "        // double array --------------------\n",
    "        double[] doubleArr = new double[3];\n",
    "        \n",
    "        for (int i = 0; i < doubleArr.length; i++) {\n",
    "            doubleArr[i] = (Math.random() * 1000);\n",
    "            System.out.println(\"Double \" + i + \": \" + doubleArr[i]);\n",
    "        }\n",
    "        System.out.println();\n",
    "\n",
    "        // boolean example --------------------\n",
    "        boolean bool1 = true;\n",
    "        boolean bool2 = false;\n",
    "        if(bool1) {\n",
    "            System.out.println(\"Bool 1 is true\");\n",
    "        };\n",
    "        if(bool2) {\n",
    "            System.out.println(\"Bool 2 is true\");\n",
    "        };\n",
    "        System.out.println();\n",
    "\n",
    "        // char example --------------------\n",
    "        char c1 = 'a';\n",
    "        Character ch1 = Character.valueOf(c1);  // .valueOf converts primitive \"char\" into wrapper class \"Character\"\n",
    "        System.out.print(\"Character 1: \" + ch1);\n",
    "\n",
    "        \n",
    "    }\n",
    "}\n",
    "\n",
    "wrapperClasses.main(null);"
   ]
  },
  {
   "attachments": {},
   "cell_type": "markdown",
   "metadata": {},
   "source": [
    "# Methods and Control Structures\n",
    "* Methods are blocks of code which can be called upon and reusued at any point in a program\n",
    "* Control Strucutres are the building blocks of computer programs, being commands which take decisions and follow a set of instructions"
   ]
  },
  {
   "attachments": {},
   "cell_type": "markdown",
   "metadata": {},
   "source": [
    "# Math.random()\n",
    "\n",
    "* The Math.random method with give a randomized double type value between 0 and 1 with no parameters set\n",
    "* You can change the paramters of Math.random to customize the range of random numbers in which it will generate"
   ]
  },
  {
   "attachments": {},
   "cell_type": "markdown",
   "metadata": {},
   "source": [
    "# Do nothing by value\n",
    "* Do nothing by value is the principle of changing a local variable value, which will only temporarily remain in the current class/method, and ultimately, the change to this value is never set outside of the local scope, and therefore does nothing."
   ]
  },
  {
   "attachments": {},
   "cell_type": "markdown",
   "metadata": {},
   "source": [
    "# Int by reference\n",
    "* Int by reference is the principle of changing an integer value, and then referencing it into other classes to actually set your change in a non-local setting. This is the opposite of \"do nothing by value\", which does nothing for changing variables non-locally."
   ]
  }
 ],
 "metadata": {
  "kernelspec": {
   "display_name": "Java",
   "language": "java",
   "name": "java"
  },
  "language_info": {
   "codemirror_mode": "java",
   "file_extension": ".jshell",
   "mimetype": "text/x-java-source",
   "name": "java",
   "pygments_lexer": "java",
   "version": "17.0.4+8"
  },
  "orig_nbformat": 4
 },
 "nbformat": 4,
 "nbformat_minor": 2
}
