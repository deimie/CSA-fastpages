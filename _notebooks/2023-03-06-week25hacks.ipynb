{
 "cells": [
  {
   "attachments": {},
   "cell_type": "markdown",
   "metadata": {},
   "source": [
    "# Week 25 Hacks\n",
    "\n",
    "- image: images/collegeBoard.png"
   ]
  },
  {
   "attachments": {},
   "cell_type": "markdown",
   "metadata": {},
   "source": [
    "### Binary Addition\n",
    "Takes two binary inputs, adds them, and displays the sum in binary."
   ]
  },
  {
   "cell_type": "code",
   "execution_count": 13,
   "metadata": {
    "vscode": {
     "languageId": "java"
    }
   },
   "outputs": [
    {
     "name": "stdout",
     "output_type": "stream",
     "text": [
      "Enter binary input: \n",
      "100\n",
      "Enter another binary input: \n",
      "1101\n",
      "\n",
      "Your output is: \n",
      "10001\n"
     ]
    }
   ],
   "source": [
    "import java.util.Scanner;\n",
    "\n",
    "public class binaryAddition {\n",
    "\n",
    "    public static void main(String[] args) {\n",
    "\n",
    "        Scanner sc = new Scanner(System.in); // scanner object\n",
    "\n",
    "        System.out.println(\"Enter binary input: \");\n",
    "        String input1 = sc.nextLine(); //takes input 1\n",
    "        System.out.println(input1);\n",
    "\n",
    "        System.out.println(\"Enter another binary input: \");\n",
    "        String input2 = sc.nextLine(); //takes input 2\n",
    "        System.out.println(input2);\n",
    "\n",
    "        int sum = Integer.parseInt(input1, 2) + Integer.parseInt(input2, 2); // takes parsedInt sum of inputs\n",
    "\n",
    "        System.out.println();\n",
    "        System.out.println(\"Your output is: \");\n",
    "        System.out.println(Integer.toBinaryString(sum)); // parse integer sum back to binary\n",
    "\n",
    "    }\n",
    "}\n",
    "\n",
    "\n",
    "binaryAddition.main(null);"
   ]
  },
  {
   "attachments": {},
   "cell_type": "markdown",
   "metadata": {},
   "source": [
    "### Next\n",
    "Description"
   ]
  },
  {
   "cell_type": "code",
   "execution_count": 4,
   "metadata": {
    "vscode": {
     "languageId": "java"
    }
   },
   "outputs": [
    {
     "name": "stdout",
     "output_type": "stream",
     "text": [
      "--*\n",
      "-**\n",
      "***\n"
     ]
    }
   ],
   "source": [
    "public class test {\n",
    "\n",
    "    public static void main(String[] args) {\n",
    "\n",
    "        for(int r = 3; r > 0; r--) {\n",
    "            int c;\n",
    "            for(c = 1; c < r; c++) {\n",
    "                System.out.print(\"-\");\n",
    "            }\n",
    "            for (c = r; c <= 3; c++) {\n",
    "                System.out.print(\"*\");\n",
    "            }\n",
    "            System.out.println();\n",
    "        }\n",
    "    }\n",
    "}\n",
    "test.main(null);"
   ]
  }
 ],
 "metadata": {
  "kernelspec": {
   "display_name": "Java",
   "language": "java",
   "name": "java"
  },
  "language_info": {
   "codemirror_mode": "java",
   "file_extension": ".jshell",
   "mimetype": "text/x-java-source",
   "name": "Java",
   "pygments_lexer": "java",
   "version": "17.0.4+8"
  },
  "orig_nbformat": 4
 },
 "nbformat": 4,
 "nbformat_minor": 2
}
