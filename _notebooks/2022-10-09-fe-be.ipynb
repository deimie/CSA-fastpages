{
 "cells": [
  {
   "cell_type": "markdown",
   "metadata": {},
   "source": [
    "# Github User ArrayList\n",
    "\n",
    "* image: images/javaLogo.png"
   ]
  },
  {
   "cell_type": "code",
   "execution_count": null,
   "metadata": {},
   "outputs": [],
   "source": [
    "import java.util.Arrays;\n",
    "import java.util.ArrayList;\n",
    "import java.util.Scanner;\n",
    "\n",
    "public class ghArray {\n",
    "    \n",
    "    public static void main(String[] args) {\n",
    "\n",
    "        ArrayList<String> ghArray = new ArrayList<>(); // create new array list\n",
    "        Scanner sc = new Scanner(System.in); // create new scanner object\n",
    "\n",
    "        String addNewUser = \"y\";\n",
    "\n",
    "        while (addNewUser.equals(\"y\")) { // as long as user wants to add a new user, repeat\n",
    "            System.out.println(\"Enter your name -\");\n",
    "            ghArray.add(\"Name: \" + sc.nextLine()); // take name input\n",
    "    \n",
    "            System.out.println(\"Enter your Github ID -\");\n",
    "            ghArray.add(\"Github ID: \" + sc.nextLine()); // take ghID input\n",
    "        \n",
    "            System.out.println(\"Would you like to input another user? (y/n)\");\n",
    "            addNewUser = sc.nextLine(); // input y/n to add another user\n",
    "        }\n",
    "        \n",
    "        System.out.println();\n",
    "        System.out.println(\"=================================\"); // new line\n",
    "\n",
    "        for (int num = 0; num < ghArray.size(); num +=2){ // print every 2 indexes and leave a space\n",
    "            System.out.println(ghArray.get(num));\n",
    "            System.out.println(ghArray.get(num+1));\n",
    "            System.out.println();\n",
    "        }\n",
    "    }\n",
    "}\n",
    "\n",
    "ghArray.main(null);"
   ]
  }
 ],
 "metadata": {
  "kernelspec": {
   "display_name": "Java",
   "language": "java",
   "name": "java"
  },
  "language_info": {
   "name": "java"
  },
  "orig_nbformat": 4
 },
 "nbformat": 4,
 "nbformat_minor": 2
}
